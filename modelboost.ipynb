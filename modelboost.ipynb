{
 "cells": [
  {
   "cell_type": "markdown",
   "metadata": {},
   "source": [
    "## Step 1: Import Required Libraries"
   ]
  },
  {
   "cell_type": "code",
   "execution_count": 1,
   "metadata": {},
   "outputs": [],
   "source": [
    "import pandas as pd\n",
    "import numpy as np\n",
    "from sklearn.model_selection import train_test_split\n",
    "from sklearn.preprocessing import StandardScaler\n",
    "from sklearn.metrics import classification_report, confusion_matrix, roc_auc_score\n",
    "import matplotlib.pyplot as plt\n",
    "import seaborn as sns\n",
    "import warnings\n",
    "warnings.filterwarnings('ignore')"
   ]
  },
  {
   "cell_type": "markdown",
   "metadata": {},
   "source": [
    "## Step 2: Load Your Data"
   ]
  },
  {
   "cell_type": "code",
   "execution_count": 5,
   "metadata": {},
   "outputs": [
    {
     "name": "stdout",
     "output_type": "stream",
     "text": [
      "Comps (positive examples): 264\n",
      "Candidates (to classify): 9820\n"
     ]
    }
   ],
   "source": [
    "# Load the data you created in the feature engineering step\n",
    "comps_df = pd.read_csv('data/model_ready/comps_pairs_model_ready.csv')\n",
    "candidates_df = pd.read_csv('data/model_ready/candidates_pair_model_ready.csv')\n",
    "\n",
    "# Check the sizes\n",
    "print(f\"Comps (positive examples): {len(comps_df)}\")\n",
    "print(f\"Candidates (to classify): {len(candidates_df)}\")"
   ]
  },
  {
   "cell_type": "markdown",
   "metadata": {},
   "source": [
    "## Step 3: Create Labels "
   ]
  },
  {
   "cell_type": "code",
   "execution_count": 6,
   "metadata": {},
   "outputs": [
    {
     "name": "stdout",
     "output_type": "stream",
     "text": [
      "\n",
      "Training set created:\n",
      "Total examples: 1047\n",
      "Positive examples: 264\n",
      "Negative examples: 783\n",
      "Positive ratio: 25.21%\n"
     ]
    }
   ],
   "source": [
    "# Add labels: 1 for comps (good comparables)\n",
    "comps_df['is_good_comp'] = 1\n",
    "\n",
    "# For negatives, we'll sample from candidates\n",
    "# We assume most candidates are NOT good comps, so this is reasonable\n",
    "\n",
    "# Create a list to store our sampled negatives\n",
    "negative_samples = []\n",
    "\n",
    "# For each subject property, sample some candidates as negative examples\n",
    "for order_id in comps_df['orderID'].unique():\n",
    "    # Get all candidates for this subject\n",
    "    order_candidates = candidates_df[candidates_df['orderID'] == order_id]\n",
    "    \n",
    "    if len(order_candidates) > 0:\n",
    "        # Count how many positive examples we have for this subject\n",
    "        n_positives = len(comps_df[comps_df['orderID'] == order_id])\n",
    "        \n",
    "        # Sample 3x as many negatives (this is a common ratio)\n",
    "        # But don't sample more than available\n",
    "        n_to_sample = min(n_positives * 3, len(order_candidates))\n",
    "        \n",
    "        # Randomly sample candidates\n",
    "        sampled = order_candidates.sample(n=n_to_sample, random_state=42)\n",
    "        negative_samples.append(sampled)\n",
    "\n",
    "# Combine all negative samples\n",
    "negative_df = pd.concat(negative_samples, ignore_index=True)\n",
    "negative_df['is_good_comp'] = 0\n",
    "\n",
    "# Combine positive and negative examples\n",
    "train_df = pd.concat([comps_df, negative_df], ignore_index=True)\n",
    "\n",
    "# Check the balance\n",
    "print(f\"\\nTraining set created:\")\n",
    "print(f\"Total examples: {len(train_df)}\")\n",
    "print(f\"Positive examples: {len(train_df[train_df['is_good_comp']==1])}\")\n",
    "print(f\"Negative examples: {len(train_df[train_df['is_good_comp']==0])}\")\n",
    "print(f\"Positive ratio: {len(train_df[train_df['is_good_comp']==1]) / len(train_df):.2%}\")"
   ]
  },
  {
   "cell_type": "markdown",
   "metadata": {},
   "source": [
    "## Step 4: Prepare Features for Machine Learning\n"
   ]
  },
  {
   "cell_type": "code",
   "execution_count": 7,
   "metadata": {},
   "outputs": [
    {
     "name": "stdout",
     "output_type": "stream",
     "text": [
      "Feature matrix shape: (1047, 9)\n",
      "Target vector shape: (1047,)\n"
     ]
    }
   ],
   "source": [
    "# List all our feature columns (the differences and matches we calculated)\n",
    "feature_cols = [\n",
    "    'gla_diff',           # Gross Living Area difference\n",
    "    'lot_size_diff',      # Lot size difference  \n",
    "    'bedroom_diff',       # Bedroom count difference\n",
    "    'bathroom_diff',      # Bathroom count difference\n",
    "    'room_count_diff',    # Total room count difference\n",
    "    'same_property_type', # Same property type? (1 or 0)\n",
    "    'same_storey_type',   # Same storey type? (1 or 0)\n",
    "    'sold_recently_90',   # Sold within 90 days? (1 or 0)\n",
    "    'sold_recently_180'   # Sold within 180 days? (1 or 0)\n",
    "]\n",
    "\n",
    "# Create our feature matrix (X) and target vector (y)\n",
    "X = train_df[feature_cols].copy()\n",
    "y = train_df['is_good_comp']\n",
    "\n",
    "print(\"Feature matrix shape:\", X.shape)\n",
    "print(\"Target vector shape:\", y.shape)"
   ]
  },
  {
   "cell_type": "markdown",
   "metadata": {},
   "source": [
    "## Step 5: Handle Missing Values\n"
   ]
  },
  {
   "cell_type": "code",
   "execution_count": 8,
   "metadata": {},
   "outputs": [
    {
     "name": "stdout",
     "output_type": "stream",
     "text": [
      "Missing values in each feature:\n",
      "gla_diff               16\n",
      "lot_size_diff         399\n",
      "bedroom_diff           20\n",
      "bathroom_diff          12\n",
      "room_count_diff        18\n",
      "same_property_type     14\n",
      "same_storey_type      143\n",
      "sold_recently_90        0\n",
      "sold_recently_180       0\n",
      "dtype: int64\n",
      "\n",
      "\n",
      "Filled gla_diff missing values with median: 425.0\n",
      "Filled lot_size_diff missing values with median: 2224.4559999999997\n",
      "Filled bedroom_diff missing values with median: 1.0\n",
      "Filled bathroom_diff missing values with median: 1.0\n",
      "Filled room_count_diff missing values with median: 2.0\n",
      "Filled same_property_type missing values with 0\n",
      "Filled same_storey_type missing values with 0\n",
      "Filled sold_recently_90 missing values with 0\n",
      "Filled sold_recently_180 missing values with 0\n",
      "\n",
      "Missing values after filling:\n",
      "gla_diff              0\n",
      "lot_size_diff         0\n",
      "bedroom_diff          0\n",
      "bathroom_diff         0\n",
      "room_count_diff       0\n",
      "same_property_type    0\n",
      "same_storey_type      0\n",
      "sold_recently_90      0\n",
      "sold_recently_180     0\n",
      "dtype: int64\n"
     ]
    }
   ],
   "source": [
    "# Check for missing values\n",
    "print(\"Missing values in each feature:\")\n",
    "print(X.isnull().sum())\n",
    "print(\"\\n\")\n",
    "\n",
    "# Fill missing values with sensible defaults\n",
    "# For differences: use the median (middle value)\n",
    "numerical_features = ['gla_diff', 'lot_size_diff', 'bedroom_diff', \n",
    "                     'bathroom_diff', 'room_count_diff']\n",
    "\n",
    "for feature in numerical_features:\n",
    "    median_value = X[feature].median()\n",
    "    X[feature] = X[feature].fillna(median_value)\n",
    "    print(f\"Filled {feature} missing values with median: {median_value}\")\n",
    "\n",
    "# For binary features: use 0 (assuming missing = not matching/not recent)\n",
    "binary_features = ['same_property_type', 'same_storey_type', \n",
    "                  'sold_recently_90', 'sold_recently_180']\n",
    "\n",
    "for feature in binary_features:\n",
    "    X[feature] = X[feature].fillna(0)\n",
    "    print(f\"Filled {feature} missing values with 0\")\n",
    "\n",
    "print(\"\\nMissing values after filling:\")\n",
    "print(X.isnull().sum())"
   ]
  },
  {
   "cell_type": "markdown",
   "metadata": {},
   "source": [
    "## Step 6: Split Data into Training and Testing Sets\n"
   ]
  },
  {
   "cell_type": "code",
   "execution_count": 9,
   "metadata": {},
   "outputs": [
    {
     "name": "stdout",
     "output_type": "stream",
     "text": [
      "Training set: 837 examples\n",
      "Test set: 210 examples\n",
      "\n",
      "Positive ratio in training: 25.21%\n",
      "Positive ratio in test: 25.24%\n"
     ]
    }
   ],
   "source": [
    "# Split 80% for training, 20% for testing\n",
    "X_train, X_test, y_train, y_test = train_test_split(\n",
    "    X, y, \n",
    "    test_size=0.2,      # 20% for testing\n",
    "    random_state=42,    # For reproducibility\n",
    "    stratify=y          # Keep same positive/negative ratio in both sets\n",
    ")\n",
    "\n",
    "print(f\"Training set: {len(X_train)} examples\")\n",
    "print(f\"Test set: {len(X_test)} examples\")\n",
    "print(f\"\\nPositive ratio in training: {y_train.mean():.2%}\")\n",
    "print(f\"Positive ratio in test: {y_test.mean():.2%}\")"
   ]
  },
  {
   "cell_type": "markdown",
   "metadata": {},
   "source": [
    "## Step 7: Train a Simple Model - Random Forest\n",
    "Random Forest is beginner-friendly because:\n",
    "\n",
    "It doesn't need feature scaling\n",
    "It handles non-linear relationships\n",
    "It's hard to overfit\n",
    "It provides feature importance"
   ]
  },
  {
   "cell_type": "code",
   "execution_count": 10,
   "metadata": {},
   "outputs": [
    {
     "name": "stdout",
     "output_type": "stream",
     "text": [
      "Training Random Forest model...\n",
      "Training complete!\n"
     ]
    }
   ],
   "source": [
    "from sklearn.ensemble import RandomForestClassifier\n",
    "\n",
    "# Create the model\n",
    "rf_model = RandomForestClassifier(\n",
    "    n_estimators=100,    # Number of trees\n",
    "    random_state=42,     # For reproducibility\n",
    "    n_jobs=-1           # Use all CPU cores\n",
    ")\n",
    "\n",
    "# Train the model\n",
    "print(\"Training Random Forest model...\")\n",
    "rf_model.fit(X_train, y_train)\n",
    "print(\"Training complete!\")\n",
    "\n",
    "# Make predictions on test set\n",
    "y_pred = rf_model.predict(X_test)\n",
    "y_pred_proba = rf_model.predict_proba(X_test)[:, 1]  # Probability of being class 1"
   ]
  },
  {
   "cell_type": "code",
   "execution_count": 11,
   "metadata": {},
   "outputs": [
    {
     "name": "stdout",
     "output_type": "stream",
     "text": [
      "Accuracy: 89.05%\n",
      "\n",
      "Classification Report:\n",
      "              precision    recall  f1-score   support\n",
      "\n",
      "           0       0.91      0.94      0.93       157\n",
      "           1       0.81      0.74      0.77        53\n",
      "\n",
      "    accuracy                           0.89       210\n",
      "   macro avg       0.86      0.84      0.85       210\n",
      "weighted avg       0.89      0.89      0.89       210\n",
      "\n"
     ]
    },
    {
     "data": {
      "image/png": "[encoded data removed]",
      "text/plain": [
       "<Figure size 800x600 with 2 Axes>"
      ]
     },
     "metadata": {},
     "output_type": "display_data"
    },
    {
     "name": "stdout",
     "output_type": "stream",
     "text": [
      "\n",
      "ROC AUC Score: 0.948\n"
     ]
    }
   ],
   "source": [
    "# Calculate accuracy\n",
    "accuracy = (y_pred == y_test).mean()\n",
    "print(f\"Accuracy: {accuracy:.2%}\")\n",
    "\n",
    "# Detailed classification report\n",
    "print(\"\\nClassification Report:\")\n",
    "print(classification_report(y_test, y_pred))\n",
    "\n",
    "# Confusion Matrix\n",
    "cm = confusion_matrix(y_test, y_pred)\n",
    "plt.figure(figsize=(8, 6))\n",
    "sns.heatmap(cm, annot=True, fmt='d', cmap='Blues')\n",
    "plt.title('Confusion Matrix')\n",
    "plt.ylabel('True Label')\n",
    "plt.xlabel('Predicted Label')\n",
    "plt.show()\n",
    "\n",
    "# ROC AUC Score (good for imbalanced data)\n",
    "auc_score = roc_auc_score(y_test, y_pred_proba)\n",
    "print(f\"\\nROC AUC Score: {auc_score:.3f}\")"
   ]
  },
  {
   "cell_type": "markdown",
   "metadata": {},
   "source": [
    "## Step 9: Feature Importance Analysis"
   ]
  },
  {
   "cell_type": "code",
   "execution_count": 12,
   "metadata": {},
   "outputs": [
    {
     "data": {
      "image/png": "[encoded data removed]",
      "text/plain": [
       "<Figure size 1000x600 with 1 Axes>"
      ]
     },
     "metadata": {},
     "output_type": "display_data"
    },
    {
     "name": "stdout",
     "output_type": "stream",
     "text": [
      "Top 3 most important features:\n",
      "gla_diff: 0.239\n",
      "lot_size_diff: 0.176\n",
      "room_count_diff: 0.151\n"
     ]
    }
   ],
   "source": [
    "# Get feature importances\n",
    "feature_importance = pd.DataFrame({\n",
    "    'feature': feature_cols,\n",
    "    'importance': rf_model.feature_importances_\n",
    "}).sort_values('importance', ascending=False)\n",
    "\n",
    "# Plot feature importance\n",
    "plt.figure(figsize=(10, 6))\n",
    "plt.barh(feature_importance['feature'], feature_importance['importance'])\n",
    "plt.xlabel('Importance')\n",
    "plt.title('Feature Importance - Which features matter most?')\n",
    "plt.tight_layout()\n",
    "plt.show()\n",
    "\n",
    "print(\"Top 3 most important features:\")\n",
    "for idx, row in feature_importance.head(3).iterrows():\n",
    "    print(f\"{row['feature']}: {row['importance']:.3f}\")"
   ]
  },
  {
   "cell_type": "markdown",
   "metadata": {},
   "source": [
    "## Step 10: Alternative Strategy - Using Class Weights\n"
   ]
  },
  {
   "cell_type": "code",
   "execution_count": 13,
   "metadata": {},
   "outputs": [
    {
     "name": "stdout",
     "output_type": "stream",
     "text": [
      "Class weights: {0: 0.5134419551934827, 1: 19.098484848484848}\n",
      "This means positive examples will be weighted 19.1x more than negatives\n",
      "\n",
      "Weighted Model Results:\n",
      "              precision    recall  f1-score   support\n",
      "\n",
      "           0       0.98      1.00      0.99      1964\n",
      "           1       0.78      0.40      0.53        53\n",
      "\n",
      "    accuracy                           0.98      2017\n",
      "   macro avg       0.88      0.70      0.76      2017\n",
      "weighted avg       0.98      0.98      0.98      2017\n",
      "\n"
     ]
    }
   ],
   "source": [
    "# Calculate class weights to balance the dataset\n",
    "from sklearn.utils.class_weight import compute_class_weight\n",
    "\n",
    "# If using all candidates as negatives\n",
    "all_candidates_df = candidates_df.copy()\n",
    "all_candidates_df['is_good_comp'] = 0\n",
    "\n",
    "# Combine with positive examples\n",
    "train_df_all = pd.concat([comps_df, all_candidates_df], ignore_index=True)\n",
    "\n",
    "# Calculate class weights\n",
    "classes = np.array([0, 1])\n",
    "class_weights = compute_class_weight('balanced', classes=classes, y=train_df_all['is_good_comp'])\n",
    "class_weight_dict = dict(zip(classes, class_weights))\n",
    "\n",
    "print(f\"Class weights: {class_weight_dict}\")\n",
    "print(f\"This means positive examples will be weighted {class_weight_dict[1]:.1f}x more than negatives\")\n",
    "\n",
    "# Train model with class weights\n",
    "rf_model_weighted = RandomForestClassifier(\n",
    "    n_estimators=100,\n",
    "    class_weight=class_weight_dict,  # Apply weights!\n",
    "    random_state=42,\n",
    "    n_jobs=-1\n",
    ")\n",
    "\n",
    "# Prepare data\n",
    "X_all = train_df_all[feature_cols].fillna(0)  # Simple fill for demo\n",
    "y_all = train_df_all['is_good_comp']\n",
    "\n",
    "# Split and train\n",
    "X_train_all, X_test_all, y_train_all, y_test_all = train_test_split(\n",
    "    X_all, y_all, test_size=0.2, random_state=42, stratify=y_all\n",
    ")\n",
    "\n",
    "rf_model_weighted.fit(X_train_all, y_train_all)\n",
    "\n",
    "# Evaluate\n",
    "y_pred_weighted = rf_model_weighted.predict(X_test_all)\n",
    "print(\"\\nWeighted Model Results:\")\n",
    "print(classification_report(y_test_all, y_pred_weighted))"
   ]
  },
  {
   "cell_type": "markdown",
   "metadata": {},
   "source": [
    "## Step 11: Make Predictions on New Candidates\n"
   ]
  },
  {
   "cell_type": "code",
   "execution_count": 14,
   "metadata": {},
   "outputs": [
    {
     "name": "stdout",
     "output_type": "stream",
     "text": [
      "Top 10 most likely good comparables:\n",
      "      orderID  probability_good_comp\n",
      "1856  4760900                   1.00\n",
      "1872  4760900                   1.00\n",
      "7997  4776066                   1.00\n",
      "859   4762330                   0.98\n",
      "1894  4760900                   0.98\n",
      "7963  4776066                   0.97\n",
      "1910  4742669                   0.96\n",
      "8276  4777578                   0.96\n",
      "6480  4768014                   0.95\n",
      "7875  4772152                   0.95\n",
      "\n",
      "Predictions saved to 'predicted_comparables.csv'\n"
     ]
    }
   ],
   "source": [
    "# Prepare candidates for prediction\n",
    "X_candidates = candidates_df[feature_cols].copy()\n",
    "\n",
    "# Fill missing values (same as training)\n",
    "for feature in numerical_features:\n",
    "    X_candidates[feature] = X_candidates[feature].fillna(X[feature].median())\n",
    "for feature in binary_features:\n",
    "    X_candidates[feature] = X_candidates[feature].fillna(0)\n",
    "\n",
    "# Make predictions\n",
    "predictions = rf_model.predict(X_candidates)\n",
    "probabilities = rf_model.predict_proba(X_candidates)[:, 1]\n",
    "\n",
    "# Add to dataframe\n",
    "candidates_df['is_good_comp_predicted'] = predictions\n",
    "candidates_df['probability_good_comp'] = probabilities\n",
    "\n",
    "# Show top 10 most likely good comps\n",
    "top_candidates = candidates_df.nlargest(10, 'probability_good_comp')\n",
    "print(\"Top 10 most likely good comparables:\")\n",
    "print(top_candidates[['orderID', 'probability_good_comp']].to_string())\n",
    "\n",
    "# Save results\n",
    "output_df = candidates_df[['orderID', 'is_good_comp_predicted', 'probability_good_comp']]\n",
    "output_df.to_csv('predicted_comparables.csv', index=False)\n",
    "print(\"\\nPredictions saved to 'predicted_comparables.csv'\")"
   ]
  },
  {
   "cell_type": "code",
   "execution_count": null,
   "metadata": {},
   "outputs": [],
   "source": []
  }
 ],
 "metadata": {
  "kernelspec": {
   "display_name": "Python 3",
   "language": "python",
   "name": "python3"
  },
  "language_info": {
   "codemirror_mode": {
    "name": "ipython",
    "version": 3
   },
   "file_extension": ".py",
   "mimetype": "text/x-python",
   "name": "python",
   "nbconvert_exporter": "python",
   "pygments_lexer": "ipython3",
   "version": "3.9.6"
  }
 },
 "nbformat": 4,
 "nbformat_minor": 2
}
