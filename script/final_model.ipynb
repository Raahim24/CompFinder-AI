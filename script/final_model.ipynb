{
 "cells": [
  {
   "cell_type": "code",
   "execution_count": 105,
   "metadata": {},
   "outputs": [
    {
     "name": "stdout",
     "output_type": "stream",
     "text": [
      "✅ All libraries imported successfully!\n"
     ]
    }
   ],
   "source": [
    "# Basic data manipulation\n",
    "import pandas as pd\n",
    "import numpy as np\n",
    "\n",
    "# For progress bars (makes waiting easier!)\n",
    "from tqdm import tqdm\n",
    "\n",
    "# For data visualization\n",
    "import matplotlib.pyplot as plt\n",
    "\n",
    "import seaborn as sns\n",
    "\n",
    "# For machine learning\n",
    "import xgboost as xgb\n",
    "from sklearn.model_selection import train_test_split\n",
    "\n",
    "# For evaluation metrics\n",
    "from sklearn.metrics import ndcg_score\n",
    "\n",
    "# Ignore warnings for cleaner output\n",
    "import warnings\n",
    "warnings.filterwarnings('ignore')\n",
    "\n",
    "print(\"✅ All libraries imported successfully!\")"
   ]
  },
  {
   "cell_type": "markdown",
   "metadata": {},
   "source": [
    " ## Load Our Data"
   ]
  },
  {
   "cell_type": "code",
   "execution_count": 106,
   "metadata": {},
   "outputs": [
    {
     "name": "stdout",
     "output_type": "stream",
     "text": [
      "📊 Data loaded successfully!\n",
      "   - Comps: 264 rows\n",
      "   - Candidates: 9,820 rows\n"
     ]
    }
   ],
   "source": [
    "# Load the data\n",
    "comps_df = pd.read_csv('../data/model_ready/comp_pair_model_ready.csv')\n",
    "candidates_df = pd.read_csv('../data/model_ready/candidates_pair_model_ready.csv')\n",
    "\n",
    "print(f\"📊 Data loaded successfully!\")\n",
    "print(f\"   - Comps: {len(comps_df):,} rows\")\n",
    "print(f\"   - Candidates: {len(candidates_df):,} rows\")"
   ]
  },
  {
   "cell_type": "markdown",
   "metadata": {},
   "source": [
    "## Quick Data Exploration"
   ]
  },
  {
   "cell_type": "code",
   "execution_count": 107,
   "metadata": {},
   "outputs": [
    {
     "name": "stdout",
     "output_type": "stream",
     "text": [
      "\n",
      "🏠 Number of subjects: 88\n",
      "\n",
      "📌 Comps per subject:\n",
      "   - Min: 3\n",
      "   - Max: 3\n",
      "   - Average: 3.0\n",
      "\n",
      "📋 Candidates per subject:\n",
      "   - Min: 3\n",
      "   - Max: 735\n",
      "   - Average: 111.6\n"
     ]
    }
   ],
   "source": [
    "# Check how many unique subjects we have\n",
    "n_subjects = comps_df['orderID'].nunique()\n",
    "print(f\"\\n🏠 Number of subjects: {n_subjects}\")\n",
    "\n",
    "# Check comps per subject (should be 3)\n",
    "comps_per_subject = comps_df.groupby('orderID').size()\n",
    "print(f\"\\n📌 Comps per subject:\")\n",
    "print(f\"   - Min: {comps_per_subject.min()}\")\n",
    "print(f\"   - Max: {comps_per_subject.max()}\")\n",
    "print(f\"   - Average: {comps_per_subject.mean():.1f}\")\n",
    "\n",
    "# Check candidates per subject (varies)\n",
    "candidates_per_subject = candidates_df.groupby('orderID').size()\n",
    "print(f\"\\n📋 Candidates per subject:\")\n",
    "print(f\"   - Min: {candidates_per_subject.min()}\")\n",
    "print(f\"   - Max: {candidates_per_subject.max()}\")\n",
    "print(f\"   - Average: {candidates_per_subject.mean():.1f}\")"
   ]
  },
  {
   "cell_type": "markdown",
   "metadata": {},
   "source": [
    "##  Add Labels"
   ]
  },
  {
   "cell_type": "code",
   "execution_count": 108,
   "metadata": {},
   "outputs": [
    {
     "name": "stdout",
     "output_type": "stream",
     "text": [
      "\n",
      "✅ Data combined!\n",
      "   Total rows: 10,084\n",
      "   - Positive (comps): 264\n",
      "   - Negative (candidates): 9,820\n"
     ]
    }
   ],
   "source": [
    "# Add labels\n",
    "comps_df['label'] = 1\n",
    "candidates_df['label'] = 0\n",
    "\n",
    "# Combine the dataframes\n",
    "combined_df = pd.concat([comps_df, candidates_df], ignore_index=True)\n",
    "\n",
    "print(f\"\\n✅ Data combined!\")\n",
    "print(f\"   Total rows: {len(combined_df):,}\")\n",
    "print(f\"   - Positive (comps): {(combined_df['label'] == 1).sum():,}\")\n",
    "print(f\"   - Negative (candidates): {(combined_df['label'] == 0).sum():,}\")"
   ]
  },
  {
   "cell_type": "code",
   "execution_count": 109,
   "metadata": {},
   "outputs": [
    {
     "name": "stdout",
     "output_type": "stream",
     "text": [
      "\n",
      "📊 Properties per subject:\n",
      "   - Min: 6\n",
      "   - Max: 738\n",
      "   - Average: 114.6\n"
     ]
    }
   ],
   "source": [
    "# Count properties per orderID\n",
    "properties_per_order = combined_df.groupby('orderID').size()\n",
    "print(f\"\\n📊 Properties per subject:\")\n",
    "print(f\"   - Min: {properties_per_order.min()}\")\n",
    "print(f\"   - Max: {properties_per_order.max()}\")\n",
    "print(f\"   - Average: {properties_per_order.mean():.1f}\")"
   ]
  },
  {
   "cell_type": "code",
   "execution_count": 110,
   "metadata": {},
   "outputs": [
    {
     "name": "stdout",
     "output_type": "stream",
     "text": [
      "\n",
      "💾 Saved to: '../data/model_ready/combined_ranking_data.csv'\n"
     ]
    }
   ],
   "source": [
    "# Save the combined dataset\n",
    "combined_df.to_csv('../data/model_ready/combined_ranking_data.csv', index=False)\n",
    "print(f\"\\n💾 Saved to: '../data/model_ready/combined_ranking_data.csv'\")"
   ]
  },
  {
   "cell_type": "markdown",
   "metadata": {},
   "source": [
    "## STEP 2"
   ]
  },
  {
   "cell_type": "code",
   "execution_count": 111,
   "metadata": {},
   "outputs": [
    {
     "name": "stdout",
     "output_type": "stream",
     "text": [
      "✅ Data sorted by orderID\n"
     ]
    }
   ],
   "source": [
    "# Sort by orderID to keep all properties of same subject together\n",
    "combined_df = combined_df.sort_values('orderID').reset_index(drop=True)\n",
    "print(\"✅ Data sorted by orderID\")"
   ]
  },
  {
   "cell_type": "code",
   "execution_count": 112,
   "metadata": {},
   "outputs": [
    {
     "name": "stdout",
     "output_type": "stream",
     "text": [
      "\n",
      "📊 Group structure created!\n",
      "   - Number of groups (subjects): 88\n",
      "   - Total properties: 10084\n",
      "   - Example first 5 groups: [ 36 177 144 168 540]\n"
     ]
    }
   ],
   "source": [
    "# Count how many properties each orderID has\n",
    "group_sizes = combined_df.groupby('orderID').size().values\n",
    "\n",
    "print(f\"\\n📊 Group structure created!\")\n",
    "print(f\"   - Number of groups (subjects): {len(group_sizes)}\")\n",
    "print(f\"   - Total properties: {group_sizes.sum()}\")\n",
    "print(f\"   - Example first 5 groups: {group_sizes[:5]}\")"
   ]
  },
  {
   "cell_type": "code",
   "execution_count": 113,
   "metadata": {},
   "outputs": [
    {
     "data": {
      "text/plain": [
       "Index(['orderID', 'subj_gla', 'gla_clean', 'gla_diff', 'subj_lot_size',\n",
       "       'lot_size_clean', 'lot_size_diff', 'subj_bedrooms', 'bedrooms_clean',\n",
       "       'bedroom_diff', 'subj_bathrooms', 'bathrooms_clean', 'bathroom_diff',\n",
       "       'subj_room_count', 'room_count_clean', 'room_count_diff',\n",
       "       'subj_property_type', 'property_type_clean', 'same_property_type',\n",
       "       'subj_stories', 'stories_clean', 'same_storey_type', 'sale_date_clean',\n",
       "       'sold_recently_90', 'sold_recently_180', 'label', 'close_date_clean',\n",
       "       'id'],\n",
       "      dtype='object')"
      ]
     },
     "execution_count": 113,
     "metadata": {},
     "output_type": "execute_result"
    }
   ],
   "source": [
    "combined_df.columns"
   ]
  },
  {
   "cell_type": "code",
   "execution_count": 114,
   "metadata": {},
   "outputs": [
    {
     "name": "stdout",
     "output_type": "stream",
     "text": [
      "\n",
      "✅ Features and labels ready!\n",
      "   - Number of features: 8\n",
      "   - Feature shape: (10084, 8)\n",
      "   - Labels shape: (10084,)\n"
     ]
    }
   ],
   "source": [
    "# Select feature columns (everything except orderID and label)\n",
    "feature_columns = [\n",
    "    'gla_diff', \n",
    "    'lot_size_diff',\n",
    "    'bedroom_diff',\n",
    "    'bathroom_diff',\n",
    "    'room_count_diff',\n",
    "    'same_property_type',\n",
    "    'same_storey_type',\n",
    "    'sold_recently_90',\n",
    "]\n",
    "\n",
    "\n",
    "# Get features and labels\n",
    "X = combined_df[feature_columns]\n",
    "y = combined_df['label']\n",
    "\n",
    "print(f\"\\n✅ Features and labels ready!\")\n",
    "print(f\"   - Number of features: {len(feature_columns)}\")\n",
    "print(f\"   - Feature shape: {X.shape}\")\n",
    "print(f\"   - Labels shape: {y.shape}\")"
   ]
  },
  {
   "cell_type": "code",
   "execution_count": 115,
   "metadata": {},
   "outputs": [
    {
     "name": "stdout",
     "output_type": "stream",
     "text": [
      "\n",
      "✅ Train/Test split complete!\n",
      "   Training:\n",
      "   - Groups: 70\n",
      "   - Properties: 8315\n",
      "   Testing:\n",
      "   - Groups: 18\n",
      "   - Properties: 1769\n"
     ]
    }
   ],
   "source": [
    "# We need to split by complete groups (orderIDs), not randomly\n",
    "unique_orderIDs = combined_df['orderID'].unique()\n",
    "\n",
    "np.random.seed(42)\n",
    "unique_orderIDs = np.random.permutation(unique_orderIDs) \n",
    "\n",
    "n_train_groups = int(0.8 * len(unique_orderIDs))  # 80% for training\n",
    "\n",
    "# Split orderIDs\n",
    "train_orderIDs = unique_orderIDs[:n_train_groups]\n",
    "test_orderIDs = unique_orderIDs[n_train_groups:]\n",
    "\n",
    "# Create train/test sets\n",
    "train_mask = combined_df['orderID'].isin(train_orderIDs)\n",
    "test_mask = combined_df['orderID'].isin(test_orderIDs)\n",
    "\n",
    "X_train = X[train_mask]\n",
    "X_test = X[test_mask]\n",
    "y_train = y[train_mask]\n",
    "y_test = y[test_mask]\n",
    "\n",
    "# Get group sizes for train and test\n",
    "train_groups = combined_df[train_mask].groupby('orderID').size().values\n",
    "test_groups = combined_df[test_mask].groupby('orderID').size().values\n",
    "\n",
    "print(f\"\\n✅ Train/Test split complete!\")\n",
    "print(f\"   Training:\")\n",
    "print(f\"   - Groups: {len(train_groups)}\")\n",
    "print(f\"   - Properties: {len(X_train)}\")\n",
    "print(f\"   Testing:\")\n",
    "print(f\"   - Groups: {len(test_groups)}\")\n",
    "print(f\"   - Properties: {len(X_test)}\")"
   ]
  },
  {
   "cell_type": "markdown",
   "metadata": {},
   "source": [
    "## 🚀 Step 3: Train an XGBoost Ranking Model (Pairwise)\n",
    "\n",
    "We’ll:\n",
    "- Create DMatrix objects for XGBoost\n",
    "- Set up ranking parameters\n",
    "- Train the model\n",
    "- (Optionally) Evaluate how well it does on the test set\n",
    "\n",
    "> **NOTE:**  \n",
    "> We’ll use `rank:pairwise` objective, which tells XGBoost to learn to rank comps higher within each group.\n"
   ]
  },
  {
   "cell_type": "code",
   "execution_count": 116,
   "metadata": {},
   "outputs": [],
   "source": [
    "# 1️⃣ Create DMatrix objects for XGBoost (with features and labels)\n",
    "dtrain = xgb.DMatrix(X_train, label=y_train)\n",
    "dtest = xgb.DMatrix(X_test, label=y_test)\n",
    "\n",
    "# 2️⃣ Set group information (list of group sizes)\n",
    "dtrain.set_group(train_groups)\n",
    "dtest.set_group(test_groups)\n"
   ]
  },
  {
   "cell_type": "code",
   "execution_count": 117,
   "metadata": {},
   "outputs": [],
   "source": [
    "# 3️⃣ Set XGBoost parameters for pairwise ranking\n",
    "params = {\n",
    "    'objective': 'rank:pairwise',\n",
    "    'eval_metric': 'ndcg@3',  # NDCG@3 is good for Top-3 recommendations!\n",
    "    'eta': 0.1,\n",
    "    'max_depth': 6,\n",
    "    'subsample': 0.8,\n",
    "    'colsample_bytree': 0.8,\n",
    "    'seed': 42\n",
    "}\n"
   ]
  },
  {
   "cell_type": "code",
   "execution_count": 118,
   "metadata": {},
   "outputs": [
    {
     "name": "stdout",
     "output_type": "stream",
     "text": [
      "[0]\ttrain-ndcg@3:0.56808\ttest-ndcg@3:0.43482\n",
      "[10]\ttrain-ndcg@3:0.84270\ttest-ndcg@3:0.66946\n",
      "[13]\ttrain-ndcg@3:0.87478\ttest-ndcg@3:0.64060\n"
     ]
    }
   ],
   "source": [
    "# 4️⃣ Train the model!\n",
    "evals = [(dtrain, 'train'), (dtest, 'test')]\n",
    "\n",
    "model = xgb.train(\n",
    "    params,\n",
    "    dtrain,\n",
    "    num_boost_round=100,\n",
    "    evals=evals,\n",
    "    early_stopping_rounds=10,\n",
    "    verbose_eval=10\n",
    ")\n"
   ]
  },
  {
   "cell_type": "markdown",
   "metadata": {},
   "source": [
    "## CHECKING ACCURACY"
   ]
  },
  {
   "cell_type": "code",
   "execution_count": 119,
   "metadata": {},
   "outputs": [
    {
     "name": "stdout",
     "output_type": "stream",
     "text": [
      "\n",
      "🎯 Top-3 Hit Rate: 94.44% (17/18)\n"
     ]
    }
   ],
   "source": [
    "import numpy as np\n",
    "import pandas as pd\n",
    "\n",
    "# 1. Get model predictions on the test set\n",
    "test_preds = model.predict(dtest)\n",
    "\n",
    "# 2. Attach predictions and original labels to the test DataFrame\n",
    "test_df = X_test.copy()\n",
    "test_df['orderID'] = combined_df[test_mask]['orderID'].values\n",
    "test_df['label'] = y_test.values\n",
    "test_df['pred'] = test_preds\n",
    "\n",
    "# 3. For each group, rank candidates by prediction\n",
    "top_k = 3\n",
    "hit_count = 0\n",
    "total_groups = 0\n",
    "\n",
    "for order_id, group in test_df.groupby('orderID'):\n",
    "    # Sort candidates by prediction (descending)\n",
    "    group_sorted = group.sort_values('pred', ascending=False)\n",
    "    # Check if any of the top_k have label == 1 (true comp)\n",
    "    top_k_labels = group_sorted.head(top_k)['label'].values\n",
    "    if 1 in top_k_labels:\n",
    "        hit_count += 1\n",
    "    total_groups += 1\n",
    "\n",
    "hit_rate = hit_count / total_groups\n",
    "\n",
    "print(f\"\\n🎯 Top-{top_k} Hit Rate: {hit_rate:.2%} ({hit_count}/{total_groups})\")\n"
   ]
  },
  {
   "cell_type": "code",
   "execution_count": 120,
   "metadata": {},
   "outputs": [
    {
     "name": "stdout",
     "output_type": "stream",
     "text": [
      "              precision    recall  f1-score   support\n",
      "\n",
      "           0       0.99      0.99      0.99      1715\n",
      "           1       0.63      0.63      0.63        54\n",
      "\n",
      "    accuracy                           0.98      1769\n",
      "   macro avg       0.81      0.81      0.81      1769\n",
      "weighted avg       0.98      0.98      0.98      1769\n",
      "\n"
     ]
    },
    {
     "data": {
      "image/png": "[encoded data removed]",
      "text/plain": [
       "<Figure size 600x500 with 2 Axes>"
      ]
     },
     "metadata": {},
     "output_type": "display_data"
    },
    {
     "name": "stdout",
     "output_type": "stream",
     "text": [
      "\n",
      "ROC AUC Score: 0.926\n"
     ]
    }
   ],
   "source": [
    "from sklearn.metrics import classification_report, confusion_matrix, roc_auc_score\n",
    "import matplotlib.pyplot as plt\n",
    "import seaborn as sns\n",
    "\n",
    "# Attach preds and orderID to test_df (already done earlier)\n",
    "test_df['pred'] = test_preds\n",
    "\n",
    "# For each group, assign label 1 to top 3 predicted, else 0\n",
    "test_df['pred_label'] = 0\n",
    "\n",
    "for order_id, group in test_df.groupby('orderID'):\n",
    "    # Top 3 indices by prediction\n",
    "    top3_idx = group['pred'].nlargest(3).index\n",
    "    test_df.loc[top3_idx, 'pred_label'] = 1\n",
    "\n",
    "# Now you have test_df['label'] (ground truth) and test_df['pred_label'] (model prediction)\n",
    "\n",
    "# Classification report\n",
    "print(classification_report(test_df['label'], test_df['pred_label']))\n",
    "\n",
    "# Confusion matrix\n",
    "cm = confusion_matrix(test_df['label'], test_df['pred_label'])\n",
    "plt.figure(figsize=(6,5))\n",
    "sns.heatmap(cm, annot=True, fmt='d', cmap='Blues')\n",
    "plt.title('Confusion Matrix (Top-3 per Subject = 1)')\n",
    "plt.ylabel('True Label')\n",
    "plt.xlabel('Predicted Label')\n",
    "plt.show()\n",
    "\n",
    "# ROC AUC (using raw prediction scores, not pred_label)\n",
    "auc_score = roc_auc_score(test_df['label'], test_df['pred'])\n",
    "print(f\"\\nROC AUC Score: {auc_score:.3f}\")\n"
   ]
  },
  {
   "cell_type": "markdown",
   "metadata": {},
   "source": [
    "## TOP 3"
   ]
  },
  {
   "cell_type": "code",
   "execution_count": 121,
   "metadata": {},
   "outputs": [
    {
     "data": {
      "text/html": [
       "<div>\n",
       "<style scoped>\n",
       "    .dataframe tbody tr th:only-of-type {\n",
       "        vertical-align: middle;\n",
       "    }\n",
       "\n",
       "    .dataframe tbody tr th {\n",
       "        vertical-align: top;\n",
       "    }\n",
       "\n",
       "    .dataframe thead th {\n",
       "        text-align: right;\n",
       "    }\n",
       "</style>\n",
       "<table border=\"1\" class=\"dataframe\">\n",
       "  <thead>\n",
       "    <tr style=\"text-align: right;\">\n",
       "      <th></th>\n",
       "      <th>orderID</th>\n",
       "      <th>id</th>\n",
       "      <th>subj_gla</th>\n",
       "      <th>gla_clean</th>\n",
       "      <th>gla_diff</th>\n",
       "      <th>subj_lot_size</th>\n",
       "      <th>lot_size_clean</th>\n",
       "      <th>lot_size_diff</th>\n",
       "      <th>subj_property_type</th>\n",
       "      <th>property_type_clean</th>\n",
       "      <th>...</th>\n",
       "      <th>subj_bedrooms</th>\n",
       "      <th>bedrooms_clean</th>\n",
       "      <th>bedroom_diff</th>\n",
       "      <th>subj_bathrooms</th>\n",
       "      <th>bathrooms_clean</th>\n",
       "      <th>bathroom_diff</th>\n",
       "      <th>sold_recently_90</th>\n",
       "      <th>sold_recently_180</th>\n",
       "      <th>pred</th>\n",
       "      <th>rank</th>\n",
       "    </tr>\n",
       "  </thead>\n",
       "  <tbody>\n",
       "    <tr>\n",
       "      <th>0</th>\n",
       "      <td>4723364</td>\n",
       "      <td>77566.0</td>\n",
       "      <td>1254.000</td>\n",
       "      <td>1300.0</td>\n",
       "      <td>46.000</td>\n",
       "      <td>609840.000</td>\n",
       "      <td>3636.0</td>\n",
       "      <td>606204.000</td>\n",
       "      <td>Detached</td>\n",
       "      <td>Detached</td>\n",
       "      <td>...</td>\n",
       "      <td>3.0</td>\n",
       "      <td>3.0</td>\n",
       "      <td>0.0</td>\n",
       "      <td>1.5</td>\n",
       "      <td>2.0</td>\n",
       "      <td>0.5</td>\n",
       "      <td>1</td>\n",
       "      <td>1</td>\n",
       "      <td>0.202051</td>\n",
       "      <td>1</td>\n",
       "    </tr>\n",
       "    <tr>\n",
       "      <th>1</th>\n",
       "      <td>4723364</td>\n",
       "      <td>19364.0</td>\n",
       "      <td>1254.000</td>\n",
       "      <td>1697.0</td>\n",
       "      <td>443.000</td>\n",
       "      <td>609840.000</td>\n",
       "      <td>22200.0</td>\n",
       "      <td>587640.000</td>\n",
       "      <td>Detached</td>\n",
       "      <td>Detached</td>\n",
       "      <td>...</td>\n",
       "      <td>3.0</td>\n",
       "      <td>3.0</td>\n",
       "      <td>0.0</td>\n",
       "      <td>1.5</td>\n",
       "      <td>1.0</td>\n",
       "      <td>0.5</td>\n",
       "      <td>0</td>\n",
       "      <td>1</td>\n",
       "      <td>0.085297</td>\n",
       "      <td>2</td>\n",
       "    </tr>\n",
       "    <tr>\n",
       "      <th>2</th>\n",
       "      <td>4723364</td>\n",
       "      <td>16978.0</td>\n",
       "      <td>1254.000</td>\n",
       "      <td>1456.0</td>\n",
       "      <td>202.000</td>\n",
       "      <td>609840.000</td>\n",
       "      <td>3136.0</td>\n",
       "      <td>606704.000</td>\n",
       "      <td>Detached</td>\n",
       "      <td>Detached</td>\n",
       "      <td>...</td>\n",
       "      <td>3.0</td>\n",
       "      <td>3.0</td>\n",
       "      <td>0.0</td>\n",
       "      <td>1.5</td>\n",
       "      <td>2.5</td>\n",
       "      <td>1.0</td>\n",
       "      <td>0</td>\n",
       "      <td>1</td>\n",
       "      <td>0.028734</td>\n",
       "      <td>3</td>\n",
       "    </tr>\n",
       "    <tr>\n",
       "      <th>3</th>\n",
       "      <td>4742669</td>\n",
       "      <td>33996.0</td>\n",
       "      <td>839.592</td>\n",
       "      <td>839.0</td>\n",
       "      <td>0.592</td>\n",
       "      <td>4639.284</td>\n",
       "      <td>5392.0</td>\n",
       "      <td>752.716</td>\n",
       "      <td>Detached</td>\n",
       "      <td>Detached</td>\n",
       "      <td>...</td>\n",
       "      <td>2.0</td>\n",
       "      <td>3.0</td>\n",
       "      <td>1.0</td>\n",
       "      <td>2.0</td>\n",
       "      <td>2.0</td>\n",
       "      <td>0.0</td>\n",
       "      <td>1</td>\n",
       "      <td>1</td>\n",
       "      <td>0.722336</td>\n",
       "      <td>1</td>\n",
       "    </tr>\n",
       "    <tr>\n",
       "      <th>4</th>\n",
       "      <td>4742669</td>\n",
       "      <td>206055.0</td>\n",
       "      <td>839.592</td>\n",
       "      <td>693.0</td>\n",
       "      <td>146.592</td>\n",
       "      <td>4639.284</td>\n",
       "      <td>7825.0</td>\n",
       "      <td>3185.716</td>\n",
       "      <td>Detached</td>\n",
       "      <td>Detached</td>\n",
       "      <td>...</td>\n",
       "      <td>2.0</td>\n",
       "      <td>2.0</td>\n",
       "      <td>0.0</td>\n",
       "      <td>2.0</td>\n",
       "      <td>1.0</td>\n",
       "      <td>1.0</td>\n",
       "      <td>1</td>\n",
       "      <td>1</td>\n",
       "      <td>0.346653</td>\n",
       "      <td>2</td>\n",
       "    </tr>\n",
       "    <tr>\n",
       "      <th>5</th>\n",
       "      <td>4742669</td>\n",
       "      <td>34006.0</td>\n",
       "      <td>839.592</td>\n",
       "      <td>959.0</td>\n",
       "      <td>119.408</td>\n",
       "      <td>4639.284</td>\n",
       "      <td>6157.0</td>\n",
       "      <td>1517.716</td>\n",
       "      <td>Detached</td>\n",
       "      <td>Detached</td>\n",
       "      <td>...</td>\n",
       "      <td>2.0</td>\n",
       "      <td>3.0</td>\n",
       "      <td>1.0</td>\n",
       "      <td>2.0</td>\n",
       "      <td>2.0</td>\n",
       "      <td>0.0</td>\n",
       "      <td>1</td>\n",
       "      <td>1</td>\n",
       "      <td>0.009836</td>\n",
       "      <td>3</td>\n",
       "    </tr>\n",
       "    <tr>\n",
       "      <th>6</th>\n",
       "      <td>4752865</td>\n",
       "      <td>52723.0</td>\n",
       "      <td>2974.000</td>\n",
       "      <td>2219.0</td>\n",
       "      <td>755.000</td>\n",
       "      <td>6512.220</td>\n",
       "      <td>3912.7</td>\n",
       "      <td>2599.520</td>\n",
       "      <td>Detached</td>\n",
       "      <td>Detached</td>\n",
       "      <td>...</td>\n",
       "      <td>4.0</td>\n",
       "      <td>3.0</td>\n",
       "      <td>1.0</td>\n",
       "      <td>2.5</td>\n",
       "      <td>2.5</td>\n",
       "      <td>0.0</td>\n",
       "      <td>1</td>\n",
       "      <td>1</td>\n",
       "      <td>0.440703</td>\n",
       "      <td>1</td>\n",
       "    </tr>\n",
       "    <tr>\n",
       "      <th>7</th>\n",
       "      <td>4752865</td>\n",
       "      <td>286771.0</td>\n",
       "      <td>2974.000</td>\n",
       "      <td>2194.0</td>\n",
       "      <td>780.000</td>\n",
       "      <td>6512.220</td>\n",
       "      <td>4600.4</td>\n",
       "      <td>1911.820</td>\n",
       "      <td>Detached</td>\n",
       "      <td>Detached</td>\n",
       "      <td>...</td>\n",
       "      <td>4.0</td>\n",
       "      <td>3.0</td>\n",
       "      <td>1.0</td>\n",
       "      <td>2.5</td>\n",
       "      <td>2.5</td>\n",
       "      <td>0.0</td>\n",
       "      <td>1</td>\n",
       "      <td>1</td>\n",
       "      <td>0.295418</td>\n",
       "      <td>2</td>\n",
       "    </tr>\n",
       "    <tr>\n",
       "      <th>8</th>\n",
       "      <td>4752865</td>\n",
       "      <td>274153.0</td>\n",
       "      <td>2974.000</td>\n",
       "      <td>2002.0</td>\n",
       "      <td>972.000</td>\n",
       "      <td>6512.220</td>\n",
       "      <td>3340.1</td>\n",
       "      <td>3172.120</td>\n",
       "      <td>Detached</td>\n",
       "      <td>Detached</td>\n",
       "      <td>...</td>\n",
       "      <td>4.0</td>\n",
       "      <td>4.0</td>\n",
       "      <td>0.0</td>\n",
       "      <td>2.5</td>\n",
       "      <td>2.5</td>\n",
       "      <td>0.0</td>\n",
       "      <td>1</td>\n",
       "      <td>1</td>\n",
       "      <td>0.264337</td>\n",
       "      <td>3</td>\n",
       "    </tr>\n",
       "    <tr>\n",
       "      <th>9</th>\n",
       "      <td>4755196</td>\n",
       "      <td>76980.0</td>\n",
       "      <td>2956.000</td>\n",
       "      <td>2826.0</td>\n",
       "      <td>130.000</td>\n",
       "      <td>3601.000</td>\n",
       "      <td>3168.0</td>\n",
       "      <td>433.000</td>\n",
       "      <td>Detached</td>\n",
       "      <td>Detached</td>\n",
       "      <td>...</td>\n",
       "      <td>4.0</td>\n",
       "      <td>4.0</td>\n",
       "      <td>0.0</td>\n",
       "      <td>3.5</td>\n",
       "      <td>4.0</td>\n",
       "      <td>0.5</td>\n",
       "      <td>1</td>\n",
       "      <td>1</td>\n",
       "      <td>0.515453</td>\n",
       "      <td>1</td>\n",
       "    </tr>\n",
       "  </tbody>\n",
       "</table>\n",
       "<p>10 rows × 27 columns</p>\n",
       "</div>"
      ],
      "text/plain": [
       "   orderID        id  subj_gla  gla_clean  gla_diff  subj_lot_size  \\\n",
       "0  4723364   77566.0  1254.000     1300.0    46.000     609840.000   \n",
       "1  4723364   19364.0  1254.000     1697.0   443.000     609840.000   \n",
       "2  4723364   16978.0  1254.000     1456.0   202.000     609840.000   \n",
       "3  4742669   33996.0   839.592      839.0     0.592       4639.284   \n",
       "4  4742669  206055.0   839.592      693.0   146.592       4639.284   \n",
       "5  4742669   34006.0   839.592      959.0   119.408       4639.284   \n",
       "6  4752865   52723.0  2974.000     2219.0   755.000       6512.220   \n",
       "7  4752865  286771.0  2974.000     2194.0   780.000       6512.220   \n",
       "8  4752865  274153.0  2974.000     2002.0   972.000       6512.220   \n",
       "9  4755196   76980.0  2956.000     2826.0   130.000       3601.000   \n",
       "\n",
       "   lot_size_clean  lot_size_diff subj_property_type property_type_clean  ...  \\\n",
       "0          3636.0     606204.000           Detached            Detached  ...   \n",
       "1         22200.0     587640.000           Detached            Detached  ...   \n",
       "2          3136.0     606704.000           Detached            Detached  ...   \n",
       "3          5392.0        752.716           Detached            Detached  ...   \n",
       "4          7825.0       3185.716           Detached            Detached  ...   \n",
       "5          6157.0       1517.716           Detached            Detached  ...   \n",
       "6          3912.7       2599.520           Detached            Detached  ...   \n",
       "7          4600.4       1911.820           Detached            Detached  ...   \n",
       "8          3340.1       3172.120           Detached            Detached  ...   \n",
       "9          3168.0        433.000           Detached            Detached  ...   \n",
       "\n",
       "   subj_bedrooms bedrooms_clean bedroom_diff  subj_bathrooms  bathrooms_clean  \\\n",
       "0            3.0            3.0          0.0             1.5              2.0   \n",
       "1            3.0            3.0          0.0             1.5              1.0   \n",
       "2            3.0            3.0          0.0             1.5              2.5   \n",
       "3            2.0            3.0          1.0             2.0              2.0   \n",
       "4            2.0            2.0          0.0             2.0              1.0   \n",
       "5            2.0            3.0          1.0             2.0              2.0   \n",
       "6            4.0            3.0          1.0             2.5              2.5   \n",
       "7            4.0            3.0          1.0             2.5              2.5   \n",
       "8            4.0            4.0          0.0             2.5              2.5   \n",
       "9            4.0            4.0          0.0             3.5              4.0   \n",
       "\n",
       "   bathroom_diff  sold_recently_90  sold_recently_180      pred  rank  \n",
       "0            0.5                 1                  1  0.202051     1  \n",
       "1            0.5                 0                  1  0.085297     2  \n",
       "2            1.0                 0                  1  0.028734     3  \n",
       "3            0.0                 1                  1  0.722336     1  \n",
       "4            1.0                 1                  1  0.346653     2  \n",
       "5            0.0                 1                  1  0.009836     3  \n",
       "6            0.0                 1                  1  0.440703     1  \n",
       "7            0.0                 1                  1  0.295418     2  \n",
       "8            0.0                 1                  1  0.264337     3  \n",
       "9            0.5                 1                  1  0.515453     1  \n",
       "\n",
       "[10 rows x 27 columns]"
      ]
     },
     "metadata": {},
     "output_type": "display_data"
    },
    {
     "name": "stdout",
     "output_type": "stream",
     "text": [
      "✅ Top 3 candidate comps per subject saved to 'top3_candidates_recommendations.csv'\n"
     ]
    }
   ],
   "source": [
    "# --- 1. Define your features and output columns ---\n",
    "\n",
    "# List of feature columns you used in your model (must match training!)\n",
    "my_features = [\n",
    "    'gla_diff', 'lot_size_diff', 'bedroom_diff', 'bathroom_diff', 'room_count_diff',\n",
    "    'same_property_type', 'same_storey_type', 'sold_recently_90'\n",
    "    # Add/remove your actual model features here!\n",
    "]\n",
    "\n",
    "# Columns you want in the final output\n",
    "output_columns = [\n",
    "    'orderID',           # Subject/order id\n",
    "    'id',                # Unique property id for candidate\n",
    "    # --- gla --- #\n",
    "    'subj_gla', 'gla_clean',  'gla_diff',\n",
    "    # --- lotsize ---#\n",
    "    'subj_lot_size', 'lot_size_clean', 'lot_size_diff',\n",
    "    # --- property type --- #\n",
    "    'subj_property_type', 'property_type_clean', 'same_property_type',\n",
    "    # --- storey type --- #\n",
    "    'subj_stories', 'stories_clean', 'same_storey_type',\n",
    "    # --- room --- #\n",
    "    'subj_room_count', 'room_count_clean', 'room_count_diff',\n",
    "    # --- bedroom --- #\n",
    "    'subj_bedrooms', 'bedrooms_clean', 'bedroom_diff',\n",
    "    # --- bathroom --- #\n",
    "    'subj_bathrooms', 'bathrooms_clean', 'bathroom_diff',\n",
    "    # --- sold --- #\n",
    "    'sold_recently_90', 'sold_recently_180',\n",
    "    # --- Model ---\n",
    "    'pred'\n",
    "    # --- Ranking (added below) ---\n",
    "]\n",
    "\n",
    "# --- 2. Filter to candidates only ---\n",
    "candidates_only = combined_df[combined_df['label'] == 0].copy()\n",
    "\n",
    "# --- 3. Predict scores for all candidates ---\n",
    "candidates_only['pred'] = model.predict(xgb.DMatrix(candidates_only[my_features]))\n",
    "\n",
    "# --- 4. Get top-3 recommended candidates for each subject ---\n",
    "top_k = 3\n",
    "top3_results = []\n",
    "\n",
    "for order_id, group in candidates_only.groupby('orderID'):\n",
    "    group_sorted = group.sort_values('pred', ascending=False)\n",
    "    group_sorted = group_sorted.head(top_k).copy()\n",
    "    group_sorted['rank'] = range(1, len(group_sorted) + 1)   # 1, 2, 3\n",
    "    top3_results.append(group_sorted)\n",
    "\n",
    "top3_candidates_df = pd.concat(top3_results).reset_index(drop=True)\n",
    "\n",
    "# --- 5. Only keep the desired columns (including rank) ---\n",
    "output_columns_final = output_columns + ['rank']\n",
    "top3_candidates_df = top3_candidates_df[output_columns_final]\n",
    "\n",
    "# --- 6. Save to CSV and preview ---\n",
    "top3_candidates_df.to_csv('../data/results/top3_candidates_recommendations.csv', index=False)\n",
    "display(top3_candidates_df.head(10))\n",
    "print(\"✅ Top 3 candidate comps per subject saved to 'top3_candidates_recommendations.csv'\")\n"
   ]
  },
  {
   "cell_type": "markdown",
   "metadata": {},
   "source": [
    "## Model "
   ]
  },
  {
   "cell_type": "code",
   "execution_count": 122,
   "metadata": {},
   "outputs": [
    {
     "name": "stdout",
     "output_type": "stream",
     "text": [
      "Model saved as 'xgb_ranking_model.json'\n"
     ]
    }
   ],
   "source": [
    "model.save_model('../model/xgb_ranking_model.json')\n",
    "print(\"Model saved as 'xgb_ranking_model.json'\")"
   ]
  },
  {
   "cell_type": "code",
   "execution_count": 123,
   "metadata": {},
   "outputs": [
    {
     "data": {
      "image/png": "[encoded data removed]",
      "text/plain": [
       "<Figure size 640x480 with 1 Axes>"
      ]
     },
     "metadata": {},
     "output_type": "display_data"
    }
   ],
   "source": [
    "ax = xgb.plot_importance(model, max_num_features=10, importance_type='gain')\n",
    "plt.tight_layout()  # (Optional: makes layout cleaner)\n",
    "plt.savefig('../data/results/feature_importance.png', dpi=300)  # <-- Saves the plot as a PNG\n",
    "plt.show()  # Display in notebook\n"
   ]
  }
 ],
 "metadata": {
  "kernelspec": {
   "display_name": "Python 3",
   "language": "python",
   "name": "python3"
  },
  "language_info": {
   "codemirror_mode": {
    "name": "ipython",
    "version": 3
   },
   "file_extension": ".py",
   "mimetype": "text/x-python",
   "name": "python",
   "nbconvert_exporter": "python",
   "pygments_lexer": "ipython3",
   "version": "3.9.6"
  }
 },
 "nbformat": 4,
 "nbformat_minor": 2
}
