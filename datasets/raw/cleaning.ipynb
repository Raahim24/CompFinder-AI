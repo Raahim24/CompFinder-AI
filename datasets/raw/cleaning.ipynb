{
 "cells": [
  {
   "cell_type": "markdown",
   "metadata": {},
   "source": [
    "# Real Estate Appraisal System - Data Processing Notebook\n"
   ]
  },
  {
   "cell_type": "markdown",
   "metadata": {},
   "source": [
    "## Introduction\n",
    "This notebook will help us build an appraisal system that finds the 3 most similar properties to a subject property. We'll start by loading and understanding our data.\n"
   ]
  },
  {
   "cell_type": "markdown",
   "metadata": {},
   "source": [
    "## Cell 1: Import Required Libraries\n"
   ]
  },
  {
   "cell_type": "code",
   "execution_count": 2,
   "metadata": {},
   "outputs": [
    {
     "name": "stdout",
     "output_type": "stream",
     "text": [
      "Libraries imported successfully!\n"
     ]
    }
   ],
   "source": [
    "# Import the libraries we need\n",
    "import json          # To read JSON files\n",
    "import pandas as pd  # To work with data in table format\n",
    "import numpy as np   # For numerical operations\n",
    "\n",
    "print(\"Libraries imported successfully!\")"
   ]
  },
  {
   "cell_type": "markdown",
   "metadata": {},
   "source": [
    "## Cell 2: Load the JSON Data\n",
    "\n",
    "First, let's create a function to load our JSON file. JSON (JavaScript Object Notation) is a common format for storing structured data.\n"
   ]
  },
  {
   "cell_type": "code",
   "execution_count": 9,
   "metadata": {},
   "outputs": [
    {
     "name": "stdout",
     "output_type": "stream",
     "text": [
      "✅ Successfully loaded appraisals_dataset.json\n"
     ]
    }
   ],
   "source": [
    "def load_json_file(filename):\n",
    "    \"\"\"\n",
    "    This function reads a JSON file and returns its contents\n",
    "    \n",
    "    Parameters:\n",
    "    - filename: path to your JSON file (e.g., 'data.json')\n",
    "    \n",
    "    Returns:\n",
    "    - data: the JSON content as a Python dictionary\n",
    "    \"\"\"\n",
    "    # Open the file in read mode\n",
    "    with open(filename, 'r') as file:\n",
    "        # Load the JSON content\n",
    "        data = json.load(file)\n",
    "    \n",
    "    print(f\"✅ Successfully loaded {filename}\")\n",
    "    return data\n",
    "\n",
    "# Load your JSON file (replace with your actual filename)\n",
    "data = load_json_file('appraisals_dataset.json')"
   ]
  },
  {
   "cell_type": "markdown",
   "metadata": {},
   "source": [
    "## Cell 3: Understand the JSON Structure"
   ]
  },
  {
   "cell_type": "code",
   "execution_count": 10,
   "metadata": {},
   "outputs": [
    {
     "name": "stdout",
     "output_type": "stream",
     "text": [
      "🔍 JSON Structure:\n",
      "   - Main keys: ['appraisals']\n",
      "\n",
      "📊 Appraisals section:\n",
      "   - Number of appraisals: 88\n",
      "   - Keys in first appraisal: ['orderID', 'subject', 'comps', 'properties']\n"
     ]
    }
   ],
   "source": [
    "def explore_json_structure(data):\n",
    "    \"\"\"\n",
    "    This function shows us what's inside the JSON file\n",
    "    \"\"\"\n",
    "    print(\"🔍 JSON Structure:\")\n",
    "    print(f\"   - Main keys: {list(data.keys())}\")\n",
    "    \n",
    "    # Check appraisals section\n",
    "    if 'appraisals' in data:\n",
    "        print(f\"\\n📊 Appraisals section:\")\n",
    "        print(f\"   - Number of appraisals: {len(data['appraisals'])}\")\n",
    "        if len(data['appraisals']) > 0:\n",
    "            print(f\"   - Keys in first appraisal: {list(data['appraisals'][0].keys())}\")\n",
    "    \n",
    "    # Check properties section\n",
    "    if 'properties' in data:\n",
    "        print(f\"\\n🏠 Properties section:\")\n",
    "        print(f\"   - Number of candidate properties: {len(data['properties'])}\")\n",
    "\n",
    "# Run this to explore your data\n",
    "explore_json_structure(data)"
   ]
  },
  {
   "cell_type": "markdown",
   "metadata": {},
   "source": [
    "## Cell 4: Extract the Three Main Components\n",
    "\n",
    "Our JSON has three important parts:\n",
    "1. **Subject** - The property we want to appraise\n",
    "2. **Comps** - 3 properties that experts selected as similar\n",
    "3. **Candidates** - All available properties we can choose from"
   ]
  },
  {
   "cell_type": "code",
   "execution_count": 25,
   "metadata": {},
   "outputs": [
    {
     "name": "stdout",
     "output_type": "stream",
     "text": [
      "✅ Data extraction complete!\n",
      " - Subjects: 88\n",
      " - Comps sets: 264\n",
      " - Candidates sets: 9820\n"
     ]
    }
   ],
   "source": [
    "def extract_data_components_and_save(appraisals):\n",
    "    \"\"\"\n",
    "    Flattens all subjects, comps, and candidates in the given appraisals and saves them as CSV files.\n",
    "    \"\"\"\n",
    "    subject_list = []\n",
    "    comp_list = []\n",
    "    candidate_list = []\n",
    "    \n",
    "    for record in appraisals:\n",
    "        order_id = record.get('orderID', None)\n",
    "        \n",
    "        # Subject\n",
    "        subject = record.get('subject', {}).copy()\n",
    "        subject['orderID'] = order_id\n",
    "        subject_list.append(subject)\n",
    "        \n",
    "        # Comps\n",
    "        for comp in record.get('comps', []):\n",
    "            comp_flat = comp.copy()\n",
    "            comp_flat['orderID'] = order_id\n",
    "            comp_list.append(comp_flat)\n",
    "        \n",
    "        # Candidates\n",
    "        for candidate in record.get('properties', []):\n",
    "            candidate_flat = candidate.copy()\n",
    "            candidate_flat['orderID'] = order_id\n",
    "            candidate_list.append(candidate_flat)\n",
    "    \n",
    "    print(\"✅ Data extraction complete!\")\n",
    "    print(f\" - Subjects: {len(subject_list)}\")\n",
    "    print(f\" - Comps sets: {len(comp_list)}\")\n",
    "    print(f\" - Candidates sets: {len(candidate_list)}\")\n",
    "    \n",
    "    \n",
    "    return subject_list, comp_list, candidate_list\n",
    "\n",
    "# Example usage:\n",
    "subject_list, comp_list, candidate_list = extract_data_components_and_save(data['appraisals'])\n"
   ]
  },
  {
   "cell_type": "markdown",
   "metadata": {},
   "source": [
    "## Cell 5: Convert Flat Lists to DataFrames\n",
    "\n",
    "This function takes the **flat lists** of subjects, comps, and candidates and turns each one into a Pandas DataFrame.\n",
    "\n",
    "**How it works:**\n",
    "- Takes three lists (`subjects`, `comps`, `candidates`).\n",
    "- Converts each list into a separate DataFrame for easier data analysis and manipulation.\n",
    "- Prints out the number of rows in each DataFrame for a quick sanity check.\n",
    "\n",
    "**Returns:**  \n",
    "- `subjects_df` — DataFrame of all subject properties  \n",
    "- `comps_df` — DataFrame of all comps  \n",
    "- `candidates_df` — DataFrame of all candidates"
   ]
  },
  {
   "cell_type": "code",
   "execution_count": 32,
   "metadata": {},
   "outputs": [
    {
     "name": "stdout",
     "output_type": "stream",
     "text": [
      "✅ All DataFrames created!\n",
      "   - Subjects:   88\n",
      "   - Comps:      264\n",
      "   - Candidates: 9820\n"
     ]
    }
   ],
   "source": [
    "def create_dataframes_all(subjects, comps, candidates):\n",
    "    \"\"\"\n",
    "    Converts ALL subjects, comps, and candidates into DataFrames.\n",
    "    \"\"\"\n",
    "    # Subjects\n",
    "    subjects_df = pd.DataFrame(subjects)\n",
    "\n",
    "    # Comps\n",
    "    comps_df = pd.DataFrame(comps)\n",
    "\n",
    "    # Candidates\n",
    "    candidates_df = pd.DataFrame(candidates)\n",
    "\n",
    "    print(\"✅ All DataFrames created!\")\n",
    "    print(f\"   - Subjects:   {len(subjects_df)}\")\n",
    "    print(f\"   - Comps:      {len(comps_df)}\")\n",
    "    print(f\"   - Candidates: {len(candidates_df)}\")\n",
    "    return subjects_df, comps_df, candidates_df\n",
    "\n",
    "# Example usage:\n",
    "subjects_df, comps_df, candidates_df = create_dataframes_all(subject_list, comp_list, candidate_list)\n"
   ]
  },
  {
   "cell_type": "code",
   "execution_count": 35,
   "metadata": {},
   "outputs": [
    {
     "name": "stdout",
     "output_type": "stream",
     "text": [
      "✅ All properties combined!\n",
      "   - Total properties: 10172\n",
      "   - Total columns: 69\n"
     ]
    }
   ],
   "source": [
    "def combine_all_properties(subject_df, comps_df, candidates_df):\n",
    "    \"\"\"\n",
    "    Combines all properties into one DataFrame for easier processing\n",
    "    \"\"\"\n",
    "    # Combine all DataFrames vertically (stack them)\n",
    "    all_properties = pd.concat([subject_df, comps_df, candidates_df], \n",
    "                              ignore_index=True,  # Reset index to 0,1,2,3...\n",
    "                              sort=False)         # Keep column order\n",
    "    \n",
    "    print(\"✅ All properties combined!\")\n",
    "    print(f\"   - Total properties: {len(all_properties)}\")\n",
    "    print(f\"   - Total columns: {len(all_properties.columns)}\")\n",
    "    \n",
    "    return all_properties\n",
    "\n",
    "# Combine all properties\n",
    "all_df = combine_all_properties(subjects_df, comps_df, candidates_df)"
   ]
  },
  {
   "cell_type": "code",
   "execution_count": 37,
   "metadata": {},
   "outputs": [],
   "source": [
    "all_df.to_csv(\"hello.csv\")"
   ]
  },
  {
   "cell_type": "code",
   "execution_count": null,
   "metadata": {},
   "outputs": [],
   "source": []
  }
 ],
 "metadata": {
  "kernelspec": {
   "display_name": "Python 3",
   "language": "python",
   "name": "python3"
  },
  "language_info": {
   "codemirror_mode": {
    "name": "ipython",
    "version": 3
   },
   "file_extension": ".py",
   "mimetype": "text/x-python",
   "name": "python",
   "nbconvert_exporter": "python",
   "pygments_lexer": "ipython3",
   "version": "3.9.6"
  }
 },
 "nbformat": 4,
 "nbformat_minor": 2
}
