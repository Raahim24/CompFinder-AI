{
 "cells": [
  {
   "cell_type": "markdown",
   "metadata": {},
   "source": [
    "## Step 1: Install and Import XGBoost\n"
   ]
  },
  {
   "cell_type": "code",
   "execution_count": 3,
   "metadata": {},
   "outputs": [
    {
     "name": "stdout",
     "output_type": "stream",
     "text": [
      "XGBoost version: 2.1.4\n"
     ]
    }
   ],
   "source": [
    "# Install XGBoost if you haven't already\n",
    "# Run this in a cell: !pip install xgboost\n",
    "\n",
    "import pandas as pd\n",
    "import numpy as np\n",
    "import xgboost as xgb\n",
    "from sklearn.model_selection import train_test_split\n",
    "from sklearn.metrics import classification_report, confusion_matrix, roc_auc_score, roc_curve\n",
    "import matplotlib.pyplot as plt\n",
    "import seaborn as sns\n",
    "import warnings\n",
    "warnings.filterwarnings('ignore')\n",
    "\n",
    "print(\"XGBoost version:\", xgb.__version__)"
   ]
  },
  {
   "cell_type": "markdown",
   "metadata": {},
   "source": [
    "## Step 2: Load and Prepare Data\n"
   ]
  },
  {
   "cell_type": "code",
   "execution_count": 5,
   "metadata": {},
   "outputs": [
    {
     "name": "stdout",
     "output_type": "stream",
     "text": [
      "Positive examples (comps): 264\n",
      "Negative examples (candidates): 9820\n",
      "Imbalance ratio: 1:37.2\n"
     ]
    }
   ],
   "source": [
    "# Load your engineered features\n",
    "comps_df = pd.read_csv('data/model_ready/comps_pairs_model_ready.csv')\n",
    "candidates_df = pd.read_csv('data/model_ready/candidates_pair_model_ready.csv')\n",
    "\n",
    "# Add labels\n",
    "comps_df['is_good_comp'] = 1\n",
    "candidates_df['is_good_comp'] = 0\n",
    "\n",
    "print(f\"Positive examples (comps): {len(comps_df)}\")\n",
    "print(f\"Negative examples (candidates): {len(candidates_df)}\")\n",
    "print(f\"Imbalance ratio: 1:{len(candidates_df) / len(comps_df):.1f}\")"
   ]
  },
  {
   "cell_type": "markdown",
   "metadata": {},
   "source": [
    "## Step 3: XGBoost Strategy 1 - Using scale_pos_weight\n"
   ]
  },
  {
   "cell_type": "code",
   "execution_count": 6,
   "metadata": {},
   "outputs": [
    {
     "name": "stdout",
     "output_type": "stream",
     "text": [
      "Handling missing values...\n",
      "\n",
      "scale_pos_weight = 37.2\n",
      "This tells XGBoost to give positive examples more importance\n",
      "\n",
      "Training set: 8067 examples\n",
      "Test set: 2017 examples\n"
     ]
    }
   ],
   "source": [
    "# Combine all data (yes, ALL of it!)\n",
    "all_data = pd.concat([comps_df, candidates_df], ignore_index=True)\n",
    "\n",
    "# Define features\n",
    "feature_cols = [\n",
    "    'gla_diff', 'lot_size_diff', 'bedroom_diff', 'bathroom_diff',\n",
    "    'room_count_diff', 'same_property_type', 'same_storey_type',\n",
    "    'sold_recently_90', 'sold_recently_180'\n",
    "]\n",
    "\n",
    "# Prepare X and y\n",
    "X = all_data[feature_cols].copy()\n",
    "y = all_data['is_good_comp']\n",
    "\n",
    "# Handle missing values\n",
    "print(\"Handling missing values...\")\n",
    "for col in ['gla_diff', 'lot_size_diff', 'bedroom_diff', 'bathroom_diff', 'room_count_diff']:\n",
    "    X[col] = X[col].fillna(X[col].median())\n",
    "\n",
    "for col in ['same_property_type', 'same_storey_type', 'sold_recently_90', 'sold_recently_180']:\n",
    "    X[col] = X[col].fillna(0)\n",
    "\n",
    "# Calculate scale_pos_weight (this is the magic for imbalanced data!)\n",
    "scale_pos_weight = len(y[y == 0]) / len(y[y == 1])\n",
    "print(f\"\\nscale_pos_weight = {scale_pos_weight:.1f}\")\n",
    "print(\"This tells XGBoost to give positive examples more importance\")\n",
    "\n",
    "# Split the data\n",
    "X_train, X_test, y_train, y_test = train_test_split(\n",
    "    X, y, test_size=0.2, random_state=42, stratify=y\n",
    ")\n",
    "\n",
    "print(f\"\\nTraining set: {len(X_train)} examples\")\n",
    "print(f\"Test set: {len(X_test)} examples\")"
   ]
  },
  {
   "cell_type": "markdown",
   "metadata": {},
   "source": [
    "## Step 4: Train XGBoost Model\n"
   ]
  },
  {
   "cell_type": "code",
   "execution_count": 11,
   "metadata": {},
   "outputs": [
    {
     "name": "stdout",
     "output_type": "stream",
     "text": [
      "Training XGBoost model...\n"
     ]
    },
    {
     "ename": "TypeError",
     "evalue": "fit() got an unexpected keyword argument 'early_stopping_rounds'",
     "output_type": "error",
     "traceback": [
      "\u001b[0;31m---------------------------------------------------------------------------\u001b[0m",
      "\u001b[0;31mTypeError\u001b[0m                                 Traceback (most recent call last)",
      "Cell \u001b[0;32mIn[11], line 23\u001b[0m\n\u001b[1;32m     21\u001b[0m \u001b[38;5;66;03m# Train the model\u001b[39;00m\n\u001b[1;32m     22\u001b[0m \u001b[38;5;28mprint\u001b[39m(\u001b[38;5;124m\"\u001b[39m\u001b[38;5;124mTraining XGBoost model...\u001b[39m\u001b[38;5;124m\"\u001b[39m)\n\u001b[0;32m---> 23\u001b[0m \u001b[43mxgb_model\u001b[49m\u001b[38;5;241;43m.\u001b[39;49m\u001b[43mfit\u001b[49m\u001b[43m(\u001b[49m\n\u001b[1;32m     24\u001b[0m \u001b[43m    \u001b[49m\u001b[43mX_train\u001b[49m\u001b[43m,\u001b[49m\u001b[43m \u001b[49m\u001b[43my_train\u001b[49m\u001b[43m,\u001b[49m\n\u001b[1;32m     25\u001b[0m \u001b[43m    \u001b[49m\u001b[43meval_set\u001b[49m\u001b[38;5;241;43m=\u001b[39;49m\u001b[43m[\u001b[49m\u001b[43m(\u001b[49m\u001b[43mX_test\u001b[49m\u001b[43m,\u001b[49m\u001b[43m \u001b[49m\u001b[43my_test\u001b[49m\u001b[43m)\u001b[49m\u001b[43m]\u001b[49m\u001b[43m,\u001b[49m\u001b[43m  \u001b[49m\u001b[38;5;66;43;03m# Monitor performance on test set\u001b[39;49;00m\n\u001b[1;32m     26\u001b[0m \u001b[43m    \u001b[49m\u001b[43mearly_stopping_rounds\u001b[49m\u001b[38;5;241;43m=\u001b[39;49m\u001b[38;5;241;43m10\u001b[39;49m\u001b[43m,\u001b[49m\u001b[43m       \u001b[49m\u001b[38;5;66;43;03m# Stop if no improvement\u001b[39;49;00m\n\u001b[1;32m     27\u001b[0m \u001b[43m    \u001b[49m\u001b[43mverbose\u001b[49m\u001b[38;5;241;43m=\u001b[39;49m\u001b[38;5;28;43;01mFalse\u001b[39;49;00m\u001b[43m                   \u001b[49m\u001b[38;5;66;43;03m# Set to True to see training progress\u001b[39;49;00m\n\u001b[1;32m     28\u001b[0m \u001b[43m)\u001b[49m\n\u001b[1;32m     30\u001b[0m \u001b[38;5;28mprint\u001b[39m(\u001b[38;5;124m\"\u001b[39m\u001b[38;5;124mTraining complete!\u001b[39m\u001b[38;5;124m\"\u001b[39m)\n\u001b[1;32m     31\u001b[0m \u001b[38;5;28mprint\u001b[39m(\u001b[38;5;124mf\u001b[39m\u001b[38;5;124m\"\u001b[39m\u001b[38;5;124mBest iteration: \u001b[39m\u001b[38;5;132;01m{\u001b[39;00mxgb_model\u001b[38;5;241m.\u001b[39mbest_iteration\u001b[38;5;132;01m}\u001b[39;00m\u001b[38;5;124m\"\u001b[39m)\n",
      "File \u001b[0;32m~/Library/Python/3.9/lib/python/site-packages/xgboost/core.py:726\u001b[0m, in \u001b[0;36mrequire_keyword_args.<locals>.throw_if.<locals>.inner_f\u001b[0;34m(*args, **kwargs)\u001b[0m\n\u001b[1;32m    724\u001b[0m \u001b[38;5;28;01mfor\u001b[39;00m k, arg \u001b[38;5;129;01min\u001b[39;00m \u001b[38;5;28mzip\u001b[39m(sig\u001b[38;5;241m.\u001b[39mparameters, args):\n\u001b[1;32m    725\u001b[0m     kwargs[k] \u001b[38;5;241m=\u001b[39m arg\n\u001b[0;32m--> 726\u001b[0m \u001b[38;5;28;01mreturn\u001b[39;00m \u001b[43mfunc\u001b[49m\u001b[43m(\u001b[49m\u001b[38;5;241;43m*\u001b[39;49m\u001b[38;5;241;43m*\u001b[39;49m\u001b[43mkwargs\u001b[49m\u001b[43m)\u001b[49m\n",
      "\u001b[0;31mTypeError\u001b[0m: fit() got an unexpected keyword argument 'early_stopping_rounds'"
     ]
    }
   ],
   "source": [
    "# Create XGBoost classifier with parameters tuned for imbalanced data\n",
    "xgb_model = xgb.XGBClassifier(\n",
    "    # Basic parameters\n",
    "    n_estimators=100,           # Number of trees\n",
    "    max_depth=6,                # Maximum tree depth (prevent overfitting)\n",
    "    learning_rate=0.3,          # Step size shrinkage (default is good)\n",
    "    \n",
    "    # Imbalanced data parameter\n",
    "    scale_pos_weight=scale_pos_weight,  # Handle imbalance!\n",
    "    \n",
    "    # Regularization parameters (prevent overfitting)\n",
    "    reg_alpha=0.1,              # L1 regularization\n",
    "    reg_lambda=1.0,             # L2 regularization\n",
    "    \n",
    "    # Other useful parameters\n",
    "    random_state=42,            # Reproducibility\n",
    "    n_jobs=-1,                  # Use all CPU cores\n",
    "    eval_metric='logloss'       # Evaluation metric\n",
    ")\n",
    "\n",
    "# Train the model\n",
    "print(\"Training XGBoost model...\")\n",
    "xgb_model.fit(\n",
    "    X_train, y_train,\n",
    "    eval_set=[(X_test, y_test)],  # Monitor performance on test set\n",
    "    early_stopping_rounds=10,       # Stop if no improvement\n",
    "    verbose=False                   # Set to True to see training progress\n",
    ")\n",
    "\n",
    "print(\"Training complete!\")\n",
    "print(f\"Best iteration: {xgb_model.best_iteration}\")"
   ]
  },
  {
   "cell_type": "code",
   "execution_count": 12,
   "metadata": {},
   "outputs": [
    {
     "name": "stdout",
     "output_type": "stream",
     "text": [
      "2.1.4\n"
     ]
    }
   ],
   "source": [
    "import xgboost\n",
    "print(xgboost.__version__)\n"
   ]
  },
  {
   "cell_type": "code",
   "execution_count": null,
   "metadata": {},
   "outputs": [],
   "source": []
  }
 ],
 "metadata": {
  "kernelspec": {
   "display_name": "Python 3",
   "language": "python",
   "name": "python3"
  },
  "language_info": {
   "codemirror_mode": {
    "name": "ipython",
    "version": 3
   },
   "file_extension": ".py",
   "mimetype": "text/x-python",
   "name": "python",
   "nbconvert_exporter": "python",
   "pygments_lexer": "ipython3",
   "version": "3.9.6"
  }
 },
 "nbformat": 4,
 "nbformat_minor": 2
}
