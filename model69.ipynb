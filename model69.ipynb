{
 "cells": [
  {
   "cell_type": "code",
   "execution_count": 85,
   "metadata": {},
   "outputs": [
    {
     "name": "stdout",
     "output_type": "stream",
     "text": [
      "Libraries loaded!\n"
     ]
    }
   ],
   "source": [
    "import pandas as pd\n",
    "import numpy as np\n",
    "import xgboost as xgb\n",
    "from sklearn.model_selection import train_test_split, GroupKFold\n",
    "import matplotlib.pyplot as plt\n",
    "\n",
    "print(\"Libraries loaded!\")\n"
   ]
  },
  {
   "cell_type": "code",
   "execution_count": 86,
   "metadata": {},
   "outputs": [
    {
     "name": "stdout",
     "output_type": "stream",
     "text": [
      "Data loaded!\n"
     ]
    }
   ],
   "source": [
    "# Change these paths as needed\n",
    "comps_df = pd.read_csv('data/model_ready/comps_pairs_model_ready.csv')\n",
    "candidates_df = pd.read_csv('data/model_ready/candidates_pair_model_ready.csv')\n",
    "subjects_df = pd.read_csv('data/cleaned/subjects_cleaned.csv')\n",
    "\n",
    "print(\"Data loaded!\")\n"
   ]
  },
  {
   "cell_type": "code",
   "execution_count": 87,
   "metadata": {},
   "outputs": [],
   "source": [
    "numerical_features = [\n",
    "    'gla_diff',         # Gross Living Area difference\n",
    "    'lot_size_diff',    # Lot size difference\n",
    "    'bedroom_diff',     # Bedroom count difference\n",
    "    'bathroom_diff',    # Bathroom count difference\n",
    "    'room_count_diff'   # Total room count difference\n",
    "]\n",
    "\n",
    "categorical_features = [\n",
    "    'same_property_type',   # Same property type (1/0)\n",
    "    'same_storey_type',     # Same storey type (1/0)\n",
    "    'sold_recently_90',     # Sold within 90 days (1/0)\n",
    "]\n",
    "\n",
    "feature_cols = numerical_features + categorical_features\n",
    "\n",
    "comps_df['label'] = 1\n",
    "candidates_df['label'] = 0\n"
   ]
  },
  {
   "cell_type": "code",
   "execution_count": 88,
   "metadata": {},
   "outputs": [],
   "source": [
    "# For each subject/orderID, keep all comps and sample 5x negatives\n",
    "balanced_rows = []\n",
    "\n",
    "for order_id in comps_df['orderID'].unique():\n",
    "    pos = comps_df[comps_df['orderID'] == order_id]\n",
    "    cands = candidates_df[candidates_df['orderID'] == order_id]\n",
    "    n_pos = len(pos)\n",
    "    n_neg = min(len(cands), n_pos * 5)  # 5 negatives per positive\n",
    "    if n_neg > 0:\n",
    "        sampled_neg = cands.sample(n=n_neg, random_state=42)\n",
    "        balanced_rows.append(pos)\n",
    "        balanced_rows.append(sampled_neg)\n",
    "    else:\n",
    "        balanced_rows.append(pos)  # If no candidates, just add comps\n",
    "\n",
    "balanced_data = pd.concat(balanced_rows, ignore_index=True)\n",
    "balanced_data[feature_cols] = balanced_data[feature_cols].fillna(0)\n"
   ]
  },
  {
   "cell_type": "code",
   "execution_count": 89,
   "metadata": {},
   "outputs": [],
   "source": [
    "# Split orderIDs so subjects don't leak between train/test\n",
    "unique_ids = balanced_data['orderID'].unique()\n",
    "train_ids, test_ids = train_test_split(unique_ids, test_size=0.2, random_state=42)\n",
    "\n",
    "train_mask = balanced_data['orderID'].isin(train_ids)\n",
    "test_mask = balanced_data['orderID'].isin(test_ids)\n",
    "\n",
    "X_train = balanced_data.loc[train_mask, feature_cols].values\n",
    "y_train = balanced_data.loc[train_mask, 'label'].values\n",
    "groups_train = balanced_data.loc[train_mask].groupby('orderID').size().values\n",
    "\n",
    "X_test = balanced_data.loc[test_mask, feature_cols].values\n",
    "y_test = balanced_data.loc[test_mask, 'label'].values\n",
    "groups_test = balanced_data.loc[test_mask].groupby('orderID').size().values\n"
   ]
  },
  {
   "cell_type": "code",
   "execution_count": 90,
   "metadata": {},
   "outputs": [],
   "source": [
    "dtrain = xgb.DMatrix(X_train, label=y_train)\n",
    "dtrain.set_group(groups_train)\n",
    "\n",
    "dtest = xgb.DMatrix(X_test, label=y_test)\n",
    "dtest.set_group(groups_test)\n"
   ]
  },
  {
   "cell_type": "code",
   "execution_count": 91,
   "metadata": {},
   "outputs": [],
   "source": [
    "params = {\n",
    "    'objective': 'rank:pairwise',\n",
    "    'eval_metric': 'ndcg@3',\n",
    "    'eta': 0.05,          # Lower learning rate\n",
    "    'max_depth': 6,       # Deeper trees\n",
    "    'subsample': 0.9,\n",
    "    'colsample_bytree': 0.9,\n",
    "    'lambda': 1,\n",
    "    'alpha': 0.5,\n",
    "    'seed': 42\n",
    "}\n",
    "\n",
    "model = xgb.train(params, dtrain, num_boost_round=200)\n"
   ]
  },
  {
   "cell_type": "code",
   "execution_count": 92,
   "metadata": {},
   "outputs": [
    {
     "name": "stderr",
     "output_type": "stream",
     "text": [
      "/var/folders/1m/1v0gbh7j5kdg8mjb2pxc70h40000gn/T/ipykernel_43761/1075343980.py:6: DeprecationWarning: DataFrameGroupBy.apply operated on the grouping columns. This behavior is deprecated, and in a future version of pandas the grouping columns will be excluded from the operation. Either pass `include_groups=False` to exclude the groupings or explicitly select the grouping columns after groupby to silence this warning.\n",
      "  top3 = test_df.groupby('orderID').apply(lambda df: df.nlargest(3, 'score')).reset_index(drop=True)\n"
     ]
    }
   ],
   "source": [
    "test_scores = model.predict(dtest)\n",
    "test_df = balanced_data.loc[test_mask].copy()\n",
    "test_df['score'] = test_scores\n",
    "\n",
    "# Get top 3 by score for each subject\n",
    "top3 = test_df.groupby('orderID').apply(lambda df: df.nlargest(3, 'score')).reset_index(drop=True)\n"
   ]
  },
  {
   "cell_type": "code",
   "execution_count": 93,
   "metadata": {},
   "outputs": [
    {
     "name": "stdout",
     "output_type": "stream",
     "text": [
      "Precision@3: 0.94\n"
     ]
    }
   ],
   "source": [
    "hits = top3.groupby('orderID')['label'].max()\n",
    "precision_at_3 = hits.mean()\n",
    "print(f\"Precision@3: {precision_at_3:.2f}\")  # Example: 0.89 means 89%\n"
   ]
  },
  {
   "cell_type": "code",
   "execution_count": 94,
   "metadata": {},
   "outputs": [
    {
     "data": {
      "image/png": "[encoded data removed]",
      "text/plain": [
       "<Figure size 640x480 with 1 Axes>"
      ]
     },
     "metadata": {},
     "output_type": "display_data"
    }
   ],
   "source": [
    "# Map XGBoost f0, f1, ... to your feature columns\n",
    "feature_names = feature_cols  # This is your list of actual feature names\n",
    "\n",
    "# Get importances as a dict: keys like 'f0', 'f1', ...\n",
    "importances = model.get_score(importance_type='weight')\n",
    "\n",
    "# Map 'f0' -> feature_names[0], etc.\n",
    "importances_named = {feature_names[int(f[1:])]: importance for f, importance in importances.items()}\n",
    "\n",
    "# Sort features by importance for nicer plots\n",
    "sorted_features = sorted(importances_named.items(), key=lambda x: x[1], reverse=True)\n",
    "\n",
    "# Separate names and values for plotting\n",
    "names = [x[0] for x in sorted_features]\n",
    "vals = [x[1] for x in sorted_features]\n",
    "\n",
    "import matplotlib.pyplot as plt\n",
    "plt.barh(names, vals)\n",
    "plt.xlabel('Importance')\n",
    "plt.title('Feature Importance (with names)')\n",
    "plt.gca().invert_yaxis()\n",
    "plt.show()\n"
   ]
  },
  {
   "cell_type": "code",
   "execution_count": 97,
   "metadata": {},
   "outputs": [
    {
     "data": {
      "text/plain": [
       "Index(['orderID', 'subj_gla', 'gla_clean', 'gla_diff', 'subj_lot_size',\n",
       "       'lot_size_clean', 'lot_size_diff', 'subj_bedrooms', 'bedrooms_clean',\n",
       "       'bedroom_diff', 'subj_bathrooms', 'bathrooms_clean', 'bathroom_diff',\n",
       "       'subj_room_count', 'room_count_clean', 'room_count_diff',\n",
       "       'subj_property_type', 'property_type_clean', 'same_property_type',\n",
       "       'subj_stories', 'stories_clean', 'same_storey_type', 'sale_date_clean',\n",
       "       'sold_recently_90', 'sold_recently_180', 'label', 'subj_effective_date',\n",
       "       'id', 'address', 'bedrooms', 'gla', 'city', 'province', 'postal_code',\n",
       "       'property_sub_type', 'structure_type', 'style', 'levels', 'room_count',\n",
       "       'full_baths', 'half_baths', 'main_level_finished_area',\n",
       "       'upper_lvl_fin_area', 'bg_fin_area', 'lot_size_sf', 'year_built',\n",
       "       'roof', 'basement', 'cooling', 'heating', 'close_price', 'close_date',\n",
       "       'public_remarks', 'latitude', 'longitude', 'close_date_clean',\n",
       "       'full_baths_clean', 'half_baths_clean', 'score'],\n",
       "      dtype='object')"
      ]
     },
     "execution_count": 97,
     "metadata": {},
     "output_type": "execute_result"
    }
   ],
   "source": [
    "top3.columns"
   ]
  },
  {
   "cell_type": "code",
   "execution_count": null,
   "metadata": {},
   "outputs": [],
   "source": []
  }
 ],
 "metadata": {
  "kernelspec": {
   "display_name": "Python 3",
   "language": "python",
   "name": "python3"
  },
  "language_info": {
   "codemirror_mode": {
    "name": "ipython",
    "version": 3
   },
   "file_extension": ".py",
   "mimetype": "text/x-python",
   "name": "python",
   "nbconvert_exporter": "python",
   "pygments_lexer": "ipython3",
   "version": "3.9.6"
  }
 },
 "nbformat": 4,
 "nbformat_minor": 2
}
