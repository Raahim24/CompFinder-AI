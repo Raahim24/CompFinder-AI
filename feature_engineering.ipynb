{
 "cells": [
  {
   "cell_type": "code",
   "execution_count": 72,
   "metadata": {},
   "outputs": [],
   "source": [
    "import pandas as pd\n",
    "import numpy as np\n",
    "from datetime import datetime, timedelta"
   ]
  },
  {
   "cell_type": "code",
   "execution_count": 73,
   "metadata": {},
   "outputs": [
    {
     "name": "stdout",
     "output_type": "stream",
     "text": [
      "✅ Data loaded!\n",
      "Subjects:   88\n",
      "Comps:      264\n",
      "Candidates: 9820\n"
     ]
    }
   ],
   "source": [
    "subjects_cleaned_df = pd.read_csv('datasets/data/subjects_cleaned.csv')\n",
    "comps_cleaned_df = pd.read_csv('datasets/data/comps_cleaned.csv')\n",
    "candidates_cleaned_df = pd.read_csv('datasets/data/candidates_cleaned.csv')\n",
    "\n",
    "print(\"✅ Data loaded!\")\n",
    "print(f\"Subjects:   {len(subjects_cleaned_df)}\")\n",
    "print(f\"Comps:      {len(comps_cleaned_df)}\")\n",
    "print(f\"Candidates: {len(candidates_cleaned_df)}\")"
   ]
  },
  {
   "cell_type": "markdown",
   "metadata": {},
   "source": [
    "import pandas as pd\n",
    "import numpy as np\n",
    "from datetime import datetime, timedelta"
   ]
  },
  {
   "cell_type": "code",
   "execution_count": 74,
   "metadata": {},
   "outputs": [],
   "source": [
    "def gla_diff(subject_gla, property_gla):\n",
    "    \"\"\"Calculate GLA difference. Returns None if either is missing.\"\"\"\n",
    "    if pd.isna(subject_gla) or pd.isna(property_gla):\n",
    "        return None\n",
    "    return abs(subject_gla - property_gla)"
   ]
  },
  {
   "cell_type": "code",
   "execution_count": 75,
   "metadata": {},
   "outputs": [],
   "source": [
    "def lot_size_diff(subject_lot, property_lot):\n",
    "    \"\"\"Calculate lot size difference. Returns None if either is missing.\"\"\"\n",
    "    if pd.isna(subject_lot) or pd.isna(property_lot):\n",
    "        return None\n",
    "    return abs(subject_lot - property_lot)"
   ]
  },
  {
   "cell_type": "code",
   "execution_count": 76,
   "metadata": {},
   "outputs": [],
   "source": [
    "def bathroom_diff(subject_baths, property_baths):\n",
    "    \"\"\"Calculate bathroom difference. Returns None if either is missing.\"\"\"\n",
    "    if pd.isna(subject_baths) or pd.isna(property_baths):\n",
    "        return None\n",
    "    return abs(subject_baths - property_baths)"
   ]
  },
  {
   "cell_type": "code",
   "execution_count": 77,
   "metadata": {},
   "outputs": [],
   "source": [
    "def bedroom_diff(subject_beds, property_beds):\n",
    "    \"\"\"Calculate bedroom difference. Returns None if either is missing.\"\"\"\n",
    "    if pd.isna(subject_beds) or pd.isna(property_beds):\n",
    "        return None\n",
    "    return abs(subject_beds - property_beds)"
   ]
  },
  {
   "cell_type": "code",
   "execution_count": 78,
   "metadata": {},
   "outputs": [],
   "source": [
    "def room_count_diff(subject_rooms, property_rooms):\n",
    "    \"\"\"Calculate room count difference. Returns None if either is missing.\"\"\"\n",
    "    if pd.isna(subject_rooms) or pd.isna(property_rooms):\n",
    "        return None\n",
    "    return abs(subject_rooms - property_rooms)"
   ]
  },
  {
   "cell_type": "code",
   "execution_count": 79,
   "metadata": {},
   "outputs": [],
   "source": [
    "def sold_recently(sale_date, reference_date, days=90):\n",
    "    \"\"\"\n",
    "    Check if sold within specified days.\n",
    "    \n",
    "    Parameters:\n",
    "    - sale_date: Date property was sold\n",
    "    - reference_date: Date to compare against\n",
    "    - days: Number of days threshold (default 90, can be 180, etc.)\n",
    "    \n",
    "    Returns:\n",
    "    - 1 if sold within days\n",
    "    - 0 if sold outside days\n",
    "    - None if date is missing\n",
    "    \"\"\"\n",
    "    if pd.isna(sale_date):\n",
    "        return None\n",
    "    \n",
    "    # Convert to datetime if string\n",
    "    if isinstance(sale_date, str):\n",
    "        sale_date = pd.to_datetime(sale_date)\n",
    "    if isinstance(reference_date, str):\n",
    "        reference_date = pd.to_datetime(reference_date)\n",
    "    \n",
    "    # Calculate days difference\n",
    "    days_diff = (reference_date - sale_date).days\n",
    "    \n",
    "    # Return 1 or 0\n",
    "    return 1 if days_diff <= days else 0"
   ]
  },
  {
   "cell_type": "code",
   "execution_count": 80,
   "metadata": {},
   "outputs": [],
   "source": [
    "def same_structure_type(subject_type, property_type):\n",
    "    \"\"\"\n",
    "    Check if same structure type.\n",
    "    \n",
    "    Returns:\n",
    "    - 1 if same\n",
    "    - 0 if different\n",
    "    - None if either is missing\n",
    "    \"\"\"\n",
    "    if pd.isna(subject_type) or pd.isna(property_type):\n",
    "        return None\n",
    "    \n",
    "    # Simple comparison\n",
    "    return 1 if str(subject_type).strip().lower() == str(property_type).strip().lower() else 0"
   ]
  },
  {
   "cell_type": "code",
   "execution_count": 81,
   "metadata": {},
   "outputs": [],
   "source": [
    "def same_storey_type(subject_storey, property_storey):\n",
    "    \"\"\"\n",
    "    Check if same storey type.\n",
    "    \n",
    "    Returns:\n",
    "    - 1 if same\n",
    "    - 0 if different  \n",
    "    - None if either is missing\n",
    "    \"\"\"\n",
    "    if pd.isna(subject_storey) or pd.isna(property_storey):\n",
    "        return None\n",
    "    \n",
    "    # Simple comparison\n",
    "    return 1 if str(subject_storey).strip().lower() == str(property_storey).strip().lower() else 0\n"
   ]
  },
  {
   "cell_type": "code",
   "execution_count": 82,
   "metadata": {},
   "outputs": [
    {
     "name": "stdout",
     "output_type": "stream",
     "text": [
      "Testing difference functions:\n",
      "GLA diff (2000, 1800) = 200\n",
      "GLA diff (2000, None) = None\n",
      "\n",
      "Lot diff (5000, 4500) = 95000\n",
      "Bathroom diff (2.5, 2) = 0.5\n",
      "Bedroom diff (3, 4) = 1\n",
      "Room diff (8, 7) = 1\n",
      "\n",
      "Testing sold recently:\n",
      "Sold 58 days ago (90 day check) = 1\n",
      "Sold 148 days ago (90 day check) = 0\n",
      "Sold 148 days ago (180 day check) = 1\n",
      "\n",
      "Testing same type functions:\n",
      "Same structure ('Detached', 'Detached') = 1\n",
      "Same structure ('Detached', 'Townhouse') = 0\n",
      "Same structure ('Detached', None) = None\n",
      "\n",
      "Same storey ('2 Storey', '2 Storey') = 1\n",
      "Same storey ('2 Storey', 'Bungalow') = 0\n"
     ]
    }
   ],
   "source": [
    "def test_all_functions():\n",
    "    \"\"\"Test all functions with simple examples.\"\"\"\n",
    "    \n",
    "    print(\"Testing difference functions:\")\n",
    "    print(f\"GLA diff (2000, 1800) = {gla_diff(2000, 1800)}\")\n",
    "    print(f\"GLA diff (2000, None) = {gla_diff(2000, None)}\")\n",
    "    \n",
    "    print(f\"\\nLot diff (5000, 4500) = {lot_size_diff(5000, 100000)}\")\n",
    "    print(f\"Bathroom diff (2.5, 2) = {bathroom_diff(2.5, 2)}\")\n",
    "    print(f\"Bedroom diff (3, 4) = {bedroom_diff(3, 4)}\")\n",
    "    print(f\"Room diff (8, 7) = {room_count_diff(8, 7)}\")\n",
    "    \n",
    "    print(\"\\nTesting sold recently:\")\n",
    "    ref_date = datetime(2025, 5, 29)\n",
    "    sale_date1 = datetime(2025, 4, 1)  # 58 days ago\n",
    "    sale_date2 = datetime(2025, 1, 1)  # 148 days ago\n",
    "    \n",
    "    print(f\"Sold 58 days ago (90 day check) = {sold_recently(sale_date1, ref_date, 90)}\")\n",
    "    print(f\"Sold 148 days ago (90 day check) = {sold_recently(sale_date2, ref_date, 90)}\")\n",
    "    print(f\"Sold 148 days ago (180 day check) = {sold_recently(sale_date2, ref_date, 180)}\")\n",
    "    \n",
    "    print(\"\\nTesting same type functions:\")\n",
    "    print(f\"Same structure ('Detached', 'Detached') = {same_structure_type('Detached', 'Detached')}\")\n",
    "    print(f\"Same structure ('Detached', 'Townhouse') = {same_structure_type('Detached', 'Townhouse')}\")\n",
    "    print(f\"Same structure ('Detached', None) = {same_structure_type('Detached', None)}\")\n",
    "    \n",
    "    print(f\"\\nSame storey ('2 Storey', '2 Storey') = {same_storey_type('2 Storey', '2 Storey')}\")\n",
    "    print(f\"Same storey ('2 Storey', 'Bungalow') = {same_storey_type('2 Storey', 'Bungalow')}\")\n",
    "\n",
    "test_all_functions()"
   ]
  },
  {
   "cell_type": "code",
   "execution_count": 83,
   "metadata": {},
   "outputs": [],
   "source": [
    "def get_subject_val(orderID, col):\n",
    "    return subjects_cleaned_df.loc[subjects_cleaned_df['orderID'] == orderID, col].values[0]"
   ]
  },
  {
   "cell_type": "code",
   "execution_count": 84,
   "metadata": {},
   "outputs": [],
   "source": [
    "comps_pairs_df = comps_cleaned_df.copy()\n",
    "\n",
    "comps_pairs_df['gla_diff'] = comps_pairs_df.apply(\n",
    "    lambda row: gla_diff(get_subject_val(row['orderID'], 'gla_clean'), row['gla_clean']),\n",
    "    axis=1\n",
    ")\n",
    "# Do the same for the other columns:\n",
    "comps_pairs_df['lot_size_diff'] = comps_pairs_df.apply(\n",
    "    lambda row: lot_size_diff(get_subject_val(row['orderID'], 'lot_size_clean'), row['lot_size_clean']),\n",
    "    axis=1\n",
    ")\n",
    "comps_pairs_df['bedroom_diff'] = comps_pairs_df.apply(\n",
    "    lambda row: bedroom_diff(get_subject_val(row['orderID'], 'bedrooms_clean'), row['bedrooms_clean']),\n",
    "    axis=1\n",
    ")\n",
    "comps_pairs_df['bathroom_diff'] = comps_pairs_df.apply(\n",
    "    lambda row: bathroom_diff(get_subject_val(row['orderID'], 'bathrooms_clean'), row['bathrooms_clean']),\n",
    "    axis=1\n",
    ")\n",
    "comps_pairs_df['room_count_diff'] = comps_pairs_df.apply(\n",
    "    lambda row: room_count_diff(get_subject_val(row['orderID'], 'room_count_clean'), row['room_count_clean']),\n",
    "    axis=1\n",
    ")\n",
    "comps_pairs_df['same_property_type'] = comps_pairs_df.apply(\n",
    "    lambda row: same_structure_type(get_subject_val(row['orderID'], 'property_type_clean'), row['property_type_clean']),\n",
    "    axis=1\n",
    ")\n",
    "comps_pairs_df['same_storey_type'] = comps_pairs_df.apply(\n",
    "    lambda row: same_storey_type(get_subject_val(row['orderID'], 'stories_clean'), row['stories_clean']),\n",
    "    axis=1\n",
    ")\n",
    "comps_pairs_df['sold_recently_90'] = comps_pairs_df.apply(\n",
    "    lambda row: sold_recently(row['sale_date_clean'], get_subject_val(row['orderID'], 'effective_date_clean'), days=90),\n",
    "    axis=1\n",
    ")\n",
    "comps_pairs_df['sold_recently_180'] = comps_pairs_df.apply(\n",
    "    lambda row: sold_recently(row['sale_date_clean'], get_subject_val(row['orderID'], 'effective_date_clean'), days=180),\n",
    "    axis=1\n",
    ")\n"
   ]
  },
  {
   "cell_type": "code",
   "execution_count": 85,
   "metadata": {},
   "outputs": [],
   "source": [
    "candidates_pairs_df = candidates_cleaned_df.copy()\n",
    "\n",
    "candidates_pairs_df['gla_diff'] = candidates_pairs_df.apply(\n",
    "    lambda row: gla_diff(get_subject_val(row['orderID'], 'gla_clean'), row['gla_clean']),\n",
    "    axis=1\n",
    ")\n",
    "candidates_pairs_df['lot_size_diff'] = candidates_pairs_df.apply(\n",
    "    lambda row: lot_size_diff(get_subject_val(row['orderID'], 'lot_size_clean'), row['lot_size_clean']),\n",
    "    axis=1\n",
    ")\n",
    "candidates_pairs_df['bedroom_diff'] = candidates_pairs_df.apply(\n",
    "    lambda row: bedroom_diff(get_subject_val(row['orderID'], 'bedrooms_clean'), row['bedrooms_clean']),\n",
    "    axis=1\n",
    ")\n",
    "candidates_pairs_df['bathroom_diff'] = candidates_pairs_df.apply(\n",
    "    lambda row: bathroom_diff(get_subject_val(row['orderID'], 'bathrooms_clean'), row['bathrooms_clean']),\n",
    "    axis=1\n",
    ")\n",
    "candidates_pairs_df['room_count_diff'] = candidates_pairs_df.apply(\n",
    "    lambda row: room_count_diff(get_subject_val(row['orderID'], 'room_count_clean'), row['room_count_clean']),\n",
    "    axis=1\n",
    ")\n",
    "candidates_pairs_df['same_property_type'] = candidates_pairs_df.apply(\n",
    "    lambda row: same_structure_type(get_subject_val(row['orderID'], 'property_type_clean'), row['property_type_clean']),\n",
    "    axis=1\n",
    ")\n",
    "candidates_pairs_df['same_storey_type'] = candidates_pairs_df.apply(\n",
    "    lambda row: same_storey_type(get_subject_val(row['orderID'], 'stories_clean'), row['stories_clean']),\n",
    "    axis=1\n",
    ")\n",
    "candidates_pairs_df['sold_recently_90'] = candidates_pairs_df.apply(\n",
    "    lambda row: sold_recently(row['close_date_clean'], get_subject_val(row['orderID'], 'effective_date_clean'), days=90),\n",
    "    axis=1\n",
    ")\n",
    "candidates_pairs_df['sold_recently_180'] = candidates_pairs_df.apply(\n",
    "    lambda row: sold_recently(row['close_date_clean'], get_subject_val(row['orderID'], 'effective_date_clean'), days=180),\n",
    "    axis=1\n",
    ")\n"
   ]
  },
  {
   "cell_type": "code",
   "execution_count": 86,
   "metadata": {},
   "outputs": [
    {
     "name": "stdout",
     "output_type": "stream",
     "text": [
      "✅ DataFrame saved to: datasets/data/comps_pairs_features.csv\n",
      "✅ DataFrame saved to: datasets/data/candidates_pairs_features.csv\n"
     ]
    }
   ],
   "source": [
    "def save_df_to_csv(df, filename):\n",
    "    \"\"\"\n",
    "    Save a DataFrame to a CSV file.\n",
    "    \n",
    "    Parameters:\n",
    "    - df: DataFrame to save\n",
    "    - filename: Destination file path (e.g., 'my_data.csv')\n",
    "    \"\"\"\n",
    "    df.to_csv(filename, index=False)\n",
    "    print(f\"✅ DataFrame saved to: {filename}\")\n",
    "\n",
    "save_df_to_csv(comps_pairs_df, 'datasets/data/comps_pairs_features.csv')\n",
    "save_df_to_csv(candidates_pairs_df, 'datasets/data/candidates_pairs_features.csv')\n"
   ]
  },
  {
   "cell_type": "code",
   "execution_count": 91,
   "metadata": {},
   "outputs": [],
   "source": [
    "def make_subjects_merge_df(subjects_cleaned_df):\n",
    "    \"\"\"\n",
    "    Selects key columns from the cleaned subjects DataFrame and renames for merging.\n",
    "    \"\"\"\n",
    "    subject_cols = [\n",
    "        'orderID',\n",
    "        'effective_date_clean',\n",
    "        'lot_size_clean',\n",
    "        'gla_clean',\n",
    "        'room_count_clean',\n",
    "        'bedrooms_clean',\n",
    "        'bathrooms_clean',\n",
    "        'property_type_clean',\n",
    "        'stories_clean'\n",
    "    ]\n",
    "    # Select columns\n",
    "    subjects_for_merge = subjects_cleaned_df[subject_cols].copy()\n",
    "    # Rename for clarity (prefix with subj_ except for orderID)\n",
    "    subjects_for_merge = subjects_for_merge.rename(columns={\n",
    "        'effective_date_clean': 'subj_effective_date',\n",
    "        'lot_size_clean': 'subj_lot_size',\n",
    "        'gla_clean': 'subj_gla',\n",
    "        'room_count_clean': 'subj_room_count',\n",
    "        'bedrooms_clean': 'subj_bedrooms',\n",
    "        'bathrooms_clean': 'subj_bathrooms',\n",
    "        'property_type_clean': 'subj_property_type',\n",
    "        'stories_clean': 'subj_stories'\n",
    "    })\n",
    "    return subjects_for_merge\n"
   ]
  },
  {
   "cell_type": "code",
   "execution_count": 100,
   "metadata": {},
   "outputs": [],
   "source": [
    "def merge_subjects(subjects_for_merge, comps_pairs_df):\n",
    "    \"\"\"\n",
    "    Merge subject summary features with comps pairwise data on 'orderID'.\n",
    "    \"\"\"\n",
    "    # We'll do a left merge to keep all comps, attaching subject info for each\n",
    "    merged_df = comps_pairs_df.merge(\n",
    "        subjects_for_merge,\n",
    "        how='left',\n",
    "        on='orderID'\n",
    "    )\n",
    "    return merged_df\n",
    "\n",
    "subjects_for_merge = make_subjects_merge_df(subjects_cleaned_df)\n"
   ]
  },
  {
   "cell_type": "code",
   "execution_count": 110,
   "metadata": {},
   "outputs": [],
   "source": [
    "def reorder_columns(df):\n",
    "    \"\"\"\n",
    "    Reorder columns to: subject, comp, diff, for each feature group.\n",
    "    \"\"\"\n",
    "    # Define the columns for each group\n",
    "    order = [\n",
    "        'orderID',\n",
    "        'subj_gla', 'gla_clean', 'gla_diff',\n",
    "        'subj_lot_size', 'lot_size_clean', 'lot_size_diff',\n",
    "        'subj_bedrooms', 'bedrooms_clean', 'bedroom_diff',\n",
    "        'subj_bathrooms', 'bathrooms_clean', 'bathroom_diff',\n",
    "        'subj_room_count', 'room_count_clean', 'room_count_diff',\n",
    "        'subj_property_type','property_type_clean', 'same_property_type',\n",
    "        'subj_stories','stories_clean', 'same_storey_type',\n",
    "        'subj_effective_date','sale_date_clean', 'sold_recently_90', 'sold_recently_180',\n",
    "        # add others you want to keep\n",
    "    ]\n",
    "    # Only keep columns that actually exist\n",
    "    cols = [c for c in order if c in df.columns]\n",
    "    # Add any others at the end\n",
    "    rest = [c for c in df.columns if c not in cols]\n",
    "    return df[cols + rest]"
   ]
  },
  {
   "cell_type": "code",
   "execution_count": 121,
   "metadata": {},
   "outputs": [],
   "source": [
    "final_comps_df = merge_subjects(subjects_for_merge, comps_pairs_df)\n",
    "final_comps_df = reorder_columns(final_comps_df)\n",
    "#final_comps_df.head()\n"
   ]
  },
  {
   "cell_type": "code",
   "execution_count": 122,
   "metadata": {},
   "outputs": [],
   "source": [
    "final_candidates_df = merge_subjects(subjects_for_merge, candidates_pairs_df)\n",
    "final_candidates_df = reorder_columns(final_candidates_df)\n",
    "#final_candidates_df.head()"
   ]
  },
  {
   "cell_type": "code",
   "execution_count": null,
   "metadata": {},
   "outputs": [],
   "source": [
    "keep_cols = [\n",
    "    'orderID',\n",
    "    'subj_gla', 'gla_clean', 'gla_diff',\n",
    "    'subj_lot_size', 'lot_size_clean', 'lot_size_diff',\n",
    "    'subj_bedrooms', 'bedrooms_clean', 'bedroom_diff',\n",
    "    'subj_bathrooms', 'bathrooms_clean', 'bathroom_diff',\n",
    "    'subj_room_count', 'room_count_clean', 'room_count_diff',\n",
    "    'subj_property_type', 'property_type_clean', 'same_property_type',\n",
    "    'subj_stories', 'stories_clean', 'same_storey_type',\n",
    "    'sale_date_clean', 'sold_recently_90', 'sold_recently_180'\n",
    "]\n",
    "# Only keep these\n",
    "final_comps_df = final_comps_df[keep_cols]\n"
   ]
  },
  {
   "cell_type": "code",
   "execution_count": 116,
   "metadata": {},
   "outputs": [],
   "source": [
    "keep_cols_can = [\n",
    "    'orderID',\n",
    "    'subj_gla', 'gla_clean', 'gla_diff',\n",
    "    'subj_lot_size', 'lot_size_clean', 'lot_size_diff',\n",
    "    'subj_bedrooms', 'bedrooms_clean', 'bedroom_diff',\n",
    "    'subj_bathrooms', 'bathrooms_clean', 'bathroom_diff',\n",
    "    'subj_room_count', 'room_count_clean', 'room_count_diff',\n",
    "    'subj_property_type', 'property_type_clean', 'same_property_type',\n",
    "    'subj_stories', 'stories_clean', 'same_storey_type',\n",
    "    'close_date_clean', 'sold_recently_90', 'sold_recently_180'\n",
    "]\n",
    "final_candidates_df = final_candidates_df[keep_cols_can]"
   ]
  },
  {
   "cell_type": "code",
   "execution_count": null,
   "metadata": {},
   "outputs": [],
   "source": [
    "save_df_to_csv(final_comps_df, 'data/model_ready/comp_pair_model_ready.csv')\n",
    "save_df_to_csv(final_candidates_df, 'data/model_ready/candidates_pair_model_ready.csv')"
   ]
  }
 ],
 "metadata": {
  "kernelspec": {
   "display_name": "Python 3",
   "language": "python",
   "name": "python3"
  },
  "language_info": {
   "codemirror_mode": {
    "name": "ipython",
    "version": 3
   },
   "file_extension": ".py",
   "mimetype": "text/x-python",
   "name": "python",
   "nbconvert_exporter": "python",
   "pygments_lexer": "ipython3",
   "version": "3.9.6"
  }
 },
 "nbformat": 4,
 "nbformat_minor": 2
}
